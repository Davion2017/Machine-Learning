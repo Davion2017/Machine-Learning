{
 "cells": [
  {
   "cell_type": "markdown",
   "metadata": {},
   "source": [
    "第六章 决策树\n",
    ">- 与SVM一样， 决策树也是一种多功能的机器学习算法，\n",
    ">- 它可以现分类和回归任务， 甚至是多输出任务。\n",
    ">- 它们功能强大， 能够拟合复杂的数据集。\n",
    ">- 决策树同时也是随机森林的基本组成部分，后者是现今最强大的机器学习算法之一"
   ]
  },
  {
   "cell_type": "markdown",
   "metadata": {},
   "source": [
    "# 决策树训练和可视化"
   ]
  },
  {
   "cell_type": "markdown",
   "metadata": {},
   "source": [
    "- 下面的代码在鸢尾花数据集上训练了一个DecisionTreeClassifier："
   ]
  },
  {
   "cell_type": "code",
   "execution_count": 1,
   "metadata": {},
   "outputs": [],
   "source": [
    "from sklearn.datasets import load_iris\n",
    "from sklearn.tree import DecisionTreeClassifier"
   ]
  },
  {
   "cell_type": "code",
   "execution_count": 2,
   "metadata": {},
   "outputs": [],
   "source": [
    "iris = load_iris()\n",
    "X = iris['data'][:,2:]\n",
    "y = iris.target"
   ]
  },
  {
   "cell_type": "code",
   "execution_count": 3,
   "metadata": {},
   "outputs": [
    {
     "data": {
      "text/plain": [
       "DecisionTreeClassifier(class_weight=None, criterion='gini', max_depth=2,\n",
       "                       max_features=None, max_leaf_nodes=None,\n",
       "                       min_impurity_decrease=0.0, min_impurity_split=None,\n",
       "                       min_samples_leaf=1, min_samples_split=2,\n",
       "                       min_weight_fraction_leaf=0.0, presort=False,\n",
       "                       random_state=42, splitter='best')"
      ]
     },
     "execution_count": 3,
     "metadata": {},
     "output_type": "execute_result"
    }
   ],
   "source": [
    "tree_clf = DecisionTreeClassifier(max_depth=2, random_state=42)\n",
    "tree_clf.fit(X, y)"
   ]
  },
  {
   "cell_type": "markdown",
   "metadata": {},
   "source": [
    "- 要将决策树可视化，首先，使用export_graphviz（）方法输出一个图形定义文件，命名为iris_tree.dot"
   ]
  },
  {
   "cell_type": "code",
   "execution_count": 4,
   "metadata": {},
   "outputs": [],
   "source": [
    "from sklearn.tree import export_graphviz\n",
    "export_graphviz(\n",
    "    tree_clf,\n",
    "    out_file='./iris_tree.dot',\n",
    "    feature_names=iris.feature_names[2:],\n",
    "    class_names=iris.target_names,\n",
    "    rounded=True,\n",
    "    filled=True\n",
    ")"
   ]
  },
  {
   "cell_type": "markdown",
   "metadata": {},
   "source": [
    "- 使用graphviz包[1]中的dot命令行工具将这个.dot文件转换为其他格式， 例如PDF或PNG。 \n",
    ">```\n",
    "dot -Tpng iris_tree.dot -o iris_tree.png\n",
    "```"
   ]
  },
  {
   "cell_type": "markdown",
   "metadata": {},
   "source": [
    "![](iris_tree.png)"
   ]
  },
  {
   "cell_type": "markdown",
   "metadata": {
    "toc-hr-collapsed": true
   },
   "source": [
    "# 做出预测"
   ]
  },
  {
   "cell_type": "markdown",
   "metadata": {},
   "source": [
    "- 节点的samples属性统计它应用的训练实例数量。\n",
    "- 例如，有100个训练实例的花瓣长度大于2.45厘米（深度1，右），其中54个花瓣宽度小于1.75厘米（深度2，左）。\n",
    "- 节点的value属性说明了该节点上每个类别的训练实例数量：\n",
    "- 例如，右下节点应用在0个Setosa鸢尾、1个Versicolor鸢尾和45个Virginica鸢尾实例上。 \n",
    "- 最后， 节点的gini属性衡量其不纯度（impurity）：\n",
    "- 如果应用的所有训练实例都属于同一个类别，那么节点就是“纯”的（gini=0）。"
   ]
  },
  {
   "cell_type": "markdown",
   "metadata": {},
   "source": [
    "## 基尼不纯度\n",
    "$$ G_i=1-\\sum_{k=1}^np_i,k^2 $$\n",
    "\n",
    "$p_i,k$是第i个节点上，类别为k的训练示例占比"
   ]
  },
  {
   "cell_type": "markdown",
   "metadata": {},
   "source": [
    "- Scikit-Learn使用的是CART算法，该算法仅生成二叉树：非叶节点永远只有两个子节点（即问题答案仅有是或否）。\n",
    "- 但是，其他算法，比如ID3生成的决策树，其节点可以拥有两个以上的子节点。"
   ]
  },
  {
   "cell_type": "markdown",
   "metadata": {},
   "source": [
    "![](img/6-1.png)"
   ]
  },
  {
   "cell_type": "markdown",
   "metadata": {},
   "source": [
    "- 如你所见，决策树是非常直观的，它们的决策也很容易解释，这类模型通常被称为白盒模型。\n",
    "- 与之相反的，我们稍后将会看到，随机森林或是神经网络被认为是一种黑盒模型。\n",
    "- 它们能做出很棒的预测，你也可以轻松检查它们在做出预测时执行的计算，\n",
    "- 然而，通常很难解释清楚它们为什么做出这样的预测。\n",
    "- 比如，如果神经网络说某个人出现在一张图片上，很难知道它实际上是基于什么做出的该预测：\n",
    "- 是模型识别出来了这个人的眼睛？ 嘴巴？ 鼻子？ 还是鞋子？ 甚至是她坐的沙发？\n",
    "- 相反，决策树提供了简单好用的分类规则，需要的话，你甚至可以手动应用这些规则（例如，花的分类） "
   ]
  },
  {
   "cell_type": "markdown",
   "metadata": {},
   "source": [
    "# 估算类别概率"
   ]
  },
  {
   "cell_type": "code",
   "execution_count": 4,
   "metadata": {},
   "outputs": [
    {
     "data": {
      "text/plain": [
       "array([[0.        , 0.90740741, 0.09259259]])"
      ]
     },
     "execution_count": 4,
     "metadata": {},
     "output_type": "execute_result"
    }
   ],
   "source": [
    "# 预测每种类别的概率\n",
    "tree_clf.predict_proba([[5, 1.5]])"
   ]
  },
  {
   "cell_type": "code",
   "execution_count": 5,
   "metadata": {},
   "outputs": [
    {
     "data": {
      "text/plain": [
       "array([1])"
      ]
     },
     "execution_count": 5,
     "metadata": {},
     "output_type": "execute_result"
    }
   ],
   "source": [
    "# 直接预测类别\n",
    "tree_clf.predict([[5, 1.5]])"
   ]
  },
  {
   "cell_type": "markdown",
   "metadata": {
    "toc-hr-collapsed": true
   },
   "source": [
    "# CART训练算法 "
   ]
  },
  {
   "cell_type": "markdown",
   "metadata": {},
   "source": [
    "- 首先，使用单个特征k和阈值tk（例如，花瓣长度≤2.45厘米）将训练集分成两个子集。\n",
    "- k和阈值tk怎么选择？\n",
    "- 答案是产生出最纯子集（受其大小加权）的k和tk就是经算法搜索确定的（t，tk）。"
   ]
  },
  {
   "cell_type": "markdown",
   "metadata": {},
   "source": [
    "## CART分类成本函数\n",
    "$$ J(k,t_k)=\\frac{m_{left}}{m}G_{left}+\\frac{m_{right}}{m}G_{right} $$\n",
    "- $G_{left/right}$衡量左/右子集的不纯度\n",
    "- $m_{left/right}$是左/右子集的实例是数量"
   ]
  },
  {
   "cell_type": "markdown",
   "metadata": {},
   "source": [
    "- 一旦成功将训练集一分为二，它将使用相同的逻辑，继续分裂子集，然后是子集的子集，\n",
    "- 依次循环递进。直到抵达最大深度（由超参数max_depth控制），\n",
    "- 或是再也找不到能够降低不纯度的分裂，它才会停止。 \n",
    "\n",
    "<small>CART是一种贪婪算法：从顶层开始搜索最优分裂，然后每层重复这个过程。几层分裂之后，它并不会检视这个分裂的不纯度是否为可能的最低值。贪婪算法通常会产生一个相当不错的解，但是不能保证是最优解。</small>"
   ]
  },
  {
   "cell_type": "markdown",
   "metadata": {},
   "source": [
    "# 计算复杂度"
   ]
  },
  {
   "cell_type": "markdown",
   "metadata": {},
   "source": [
    "- 进行预测需要从根到叶遍历决策树。\n",
    "- 通常来说，决策树大致平衡，因此遍历决策树需要经历大约O（log2（m））个节点。（注：log2是以2为底的对数。等于log2（m）=log（m）/log（2）。）\n",
    "- 而每个节点只需要检查一个特征值，所以总体预测复杂度也只是O（log2（m）） ，与特征数量无关。 - 如此，即便是处理大型数据集，预测也很快。\n",
    "\n",
    "- 但是，训练时在每一个节点，算法都需要在所有样本上比较所有特征（如果设置了max_features会少一些）。这导致训练的复杂度为O（n×m log（m））。\n",
    "- 对于小型训练集（几千个实例以内），ScikitLearn可以通过对数据预处理（设置presort=True） 来加快训练，\n",
    "- 但是对于较大训练集而言， 可能会减慢训练的速度。"
   ]
  },
  {
   "cell_type": "markdown",
   "metadata": {
    "toc-hr-collapsed": true
   },
   "source": [
    "# 基尼不纯度还是信息熵"
   ]
  },
  {
   "cell_type": "markdown",
   "metadata": {},
   "source": [
    "- 默认使用的是基尼不纯度来进行测量，但是，你可以将超参数criterion设置为\"entropy\"来选择信息熵作为不纯度的测量方式。 \n",
    "- 如果所有的信息都相同，则熵为零。在机器学习中，它也经常被用作一种不纯度的测量方式：\n",
    ">如果数据集中仅包含一个类别的实例， 其熵为零。"
   ]
  },
  {
   "cell_type": "markdown",
   "metadata": {},
   "source": [
    "## 信息熵\n",
    "$$ H_i=-\\sum_{k=1}^np_{i,k}log(p_{i,k}) $$"
   ]
  },
  {
   "cell_type": "markdown",
   "metadata": {},
   "source": [
    "- 例如上面深度2左侧节点的熵值等于$-\\frac{49}{54}log(\\frac{49}{54})-\\frac{5}{54}log(\\frac{5}{54})\\approx0.31$"
   ]
  },
  {
   "cell_type": "markdown",
   "metadata": {},
   "source": [
    "- 大多数情况下，它们并没有什么大的不同，产生的树都很相似。\n",
    "- 基尼不纯度的计算速度略微快一些，所以它是个不错的默认选择。\n",
    "- 它们的不同在于，基尼不纯度倾向于从树枝中分裂出最常见的类别，而信息熵则倾向于生产更平衡的树。 "
   ]
  },
  {
   "cell_type": "markdown",
   "metadata": {},
   "source": [
    "# 正则化超参数"
   ]
  },
  {
   "cell_type": "markdown",
   "metadata": {},
   "source": [
    "- 决策树极少对训练数据做出假设（比如线性模型就正好相反，它显然假设数据是线性的）。\n",
    "- 如果不加以限制，树的结构将跟随训练集变化，<mark>严密拟合</mark>，并且很可能<mark>过度拟合</mark>。\n",
    "- 这种模型通常被称为非参数模型，这不是说它不包含任何参数（事实上它通常有很多参数），而是指在训练之前没有确定参数的数量，导致模型结构自由而紧密地贴近数据。 \n",
    "- 相应的参数模型，比如线性模型，则有预先设定好的一部分参数，因此其自由度受限，从而降低了过度拟合的风险（但是增加了拟合不足的风险） 。"
   ]
  },
  {
   "cell_type": "markdown",
   "metadata": {},
   "source": [
    "- 为避免过度拟合， 需要在训练过程中降低决策树的自由度。这个过程被称为正则化。\n",
    "- 可以限制决策树的最大深度来实现，在Scikit-Learn中，这由超参数max_depth控制\n",
    ">减小max_depth可使模型正则化， 而降低过度拟合的风险\n",
    "- DecisionTreeClassifier类还有一些其他的参数，同样可以限制决策树的形状:\n",
    "- min_samples_split（分裂前节点必须有的最小样本数），\n",
    "- min_samples_leaf（叶节点必须有的最小样本数量），\n",
    "- min_weight_fraction_leaf（跟min_samples_leaf一样，但表现为加权实例总数的占比），\n",
    "- max_leaf_nodes（最大叶节点数量），\n",
    "- 以及max_features（分裂每个节点评估的最大特征数量）。增大超参数min_*或是减小max_*将使模型正则化"
   ]
  },
  {
   "cell_type": "markdown",
   "metadata": {},
   "source": [
    "- 下面是在卫星数据集（见第5章介绍） 上训练的两个决策树。 \n",
    "- 左图使用默认参数（即无约束） 来训练决策树，\n",
    "- 右图的决策树应用min_samples_leaf=4进行训练。\n",
    "- 很明显，左图模型过度拟合，右图的泛化效果更佳。\n",
    "![](img/6-3.png)"
   ]
  },
  {
   "cell_type": "markdown",
   "metadata": {},
   "source": [
    "# 回归"
   ]
  },
  {
   "cell_type": "markdown",
   "metadata": {},
   "source": [
    "## 代码示例"
   ]
  },
  {
   "cell_type": "code",
   "execution_count": 6,
   "metadata": {},
   "outputs": [],
   "source": [
    "# 生成一个带噪声的二次数据集\n",
    "import numpy as np\n",
    "np.random.seed(42)\n",
    "m = 200\n",
    "X = np.random.rand(m, 1)\n",
    "y = 4 * (X - 0.5) ** 2\n",
    "y = y + np.random.randn(m, 1) / 10"
   ]
  },
  {
   "cell_type": "code",
   "execution_count": 7,
   "metadata": {},
   "outputs": [
    {
     "data": {
      "text/plain": [
       "DecisionTreeRegressor(criterion='mse', max_depth=2, max_features=None,\n",
       "                      max_leaf_nodes=None, min_impurity_decrease=0.0,\n",
       "                      min_impurity_split=None, min_samples_leaf=1,\n",
       "                      min_samples_split=2, min_weight_fraction_leaf=0.0,\n",
       "                      presort=False, random_state=None, splitter='best')"
      ]
     },
     "execution_count": 7,
     "metadata": {},
     "output_type": "execute_result"
    }
   ],
   "source": [
    "from sklearn.tree import DecisionTreeRegressor\n",
    "tree_reg = DecisionTreeRegressor(max_depth=2)\n",
    "tree_reg.fit(X, y)"
   ]
  },
  {
   "cell_type": "code",
   "execution_count": 16,
   "metadata": {},
   "outputs": [],
   "source": [
    "export_graphviz(\n",
    "    tree_reg,\n",
    "    out_file='./noise_reg_tree.dot',\n",
    "    rounded=True,\n",
    "    filled=True\n",
    ")"
   ]
  },
  {
   "cell_type": "markdown",
   "metadata": {},
   "source": [
    "![](noise_reg_tree.png)"
   ]
  },
  {
   "cell_type": "markdown",
   "metadata": {},
   "source": [
    "- CART算法的工作原理跟前面介绍的大致相同，唯一不同在于，\n",
    "- 它分裂训练集的方式不是最小化不纯度，而是最小化MSE。 "
   ]
  },
  {
   "cell_type": "markdown",
   "metadata": {},
   "source": [
    "## CART回归成本函数\n",
    "$$ J(k,t_k)=\\frac{m_{left}}{m}MSE_{left}+\\frac{m_{right}}{m}MSE_{right} $$\n",
    "$$ MSE_{node}=\\sum_{i=node}(\\hat{y}_{node}-y^{(i)})^2 $$\n",
    "$$ \\hat{y}_{node}=\\frac{1}{m_{node}}\\sum_{i=node}y^{(i)} $$"
   ]
  },
  {
   "cell_type": "code",
   "execution_count": 8,
   "metadata": {},
   "outputs": [],
   "source": [
    "import matplotlib.pyplot as plt"
   ]
  },
  {
   "cell_type": "code",
   "execution_count": 10,
   "metadata": {},
   "outputs": [
    {
     "data": {
      "text/plain": [
       "[<matplotlib.lines.Line2D at 0x1b246b662b0>]"
      ]
     },
     "execution_count": 10,
     "metadata": {},
     "output_type": "execute_result"
    },
    {
     "data": {
      "image/png": "[encoded data removed]",
      "text/plain": [
       "<Figure size 432x288 with 1 Axes>"
      ]
     },
     "metadata": {
      "needs_background": "light"
     },
     "output_type": "display_data"
    }
   ],
   "source": [
    "plt.plot(X, y, '.')"
   ]
  },
  {
   "cell_type": "markdown",
   "metadata": {},
   "source": [
    "- 与分类任务一样， 决策树在处理回归任务时也很容易过度拟合。\n",
    "- 如果没有任何正则化（即使用默认超参数），\n",
    "- 你将得到如图左侧所示的预测结果，这显然对训练集严重过度拟合。\n",
    "- 只需要设置min_samples_leaf=10， 就能得到一个看起来合理得多的模型，"
   ]
  },
  {
   "cell_type": "code",
   "execution_count": 13,
   "metadata": {},
   "outputs": [
    {
     "data": {
      "text/plain": [
       "DecisionTreeRegressor(criterion='mse', max_depth=None, max_features=None,\n",
       "                      max_leaf_nodes=None, min_impurity_decrease=0.0,\n",
       "                      min_impurity_split=None, min_samples_leaf=10,\n",
       "                      min_samples_split=2, min_weight_fraction_leaf=0.0,\n",
       "                      presort=False, random_state=None, splitter='best')"
      ]
     },
     "execution_count": 13,
     "metadata": {},
     "output_type": "execute_result"
    }
   ],
   "source": [
    "tree_reg_1 = DecisionTreeRegressor()\n",
    "tree_reg_1.fit(X, y)\n",
    "\n",
    "tree_reg_2 = DecisionTreeRegressor(min_samples_leaf=10)\n",
    "tree_reg_2.fit(X, y)"
   ]
  },
  {
   "cell_type": "code",
   "execution_count": 14,
   "metadata": {},
   "outputs": [
    {
     "data": {
      "text/plain": [
       "Text(0.5, 1.0, 'min_sample_leaf=10')"
      ]
     },
     "execution_count": 14,
     "metadata": {},
     "output_type": "execute_result"
    },
    {
     "data": {
      "image/png": "[encoded data removed]",
      "text/plain": [
       "<Figure size 792x288 with 2 Axes>"
      ]
     },
     "metadata": {
      "needs_background": "light"
     },
     "output_type": "display_data"
    }
   ],
   "source": [
    "plt.figure(figsize=(11,4))\n",
    "plt.subplot(121)\n",
    "plt.plot(X, y, '.')\n",
    "X_temp = np.linspace(0, 1, 100).reshape(100, 1)\n",
    "y_temp = tree_reg_1.predict(X_temp)\n",
    "plt.plot(X_temp, y_temp, 'r-', label='$\\hat{y}$')\n",
    "plt.legend(loc='upper center')\n",
    "plt.title('无约束')\n",
    "\n",
    "plt.subplot(122)\n",
    "plt.plot(X, y, '.')\n",
    "X_temp = np.linspace(0, 1, 100).reshape(100, 1)\n",
    "y_temp = tree_reg_2.predict(X_temp)\n",
    "plt.plot(X_temp, y_temp, 'r-', label='$\\hat{y}$')\n",
    "plt.legend(loc='upper center')\n",
    "plt.title('min_sample_leaf=10')"
   ]
  },
  {
   "cell_type": "markdown",
   "metadata": {},
   "source": [
    "# 不稳定性"
   ]
  },
  {
   "cell_type": "markdown",
   "metadata": {},
   "source": [
    "- 决策树青睐正交的决策边界（所有的分裂都与轴线垂直），这导致它们对训练集的旋转非常敏感。\n",
    "- 下面显示了一个简单的线性可分离数据集：\n",
    ">- 左图里，决策树可以很轻松分裂；\n",
    ">- 而到了右边，数据集旋转45°后，决策边界产生了不必要的卷曲。\n",
    ">- 虽然两个模型都看似完美拟合训练集，但是右侧模型很可能泛化不佳。 \n",
    ">\n",
    ">![](img/6-7.png)"
   ]
  },
  {
   "cell_type": "markdown",
   "metadata": {},
   "source": [
    "- 更概括地说， 决策树的主要问题是它们对训练数据中的小变化非常敏感。 \n",
    "- 例如，如果你从鸢尾花数据集中移除花瓣最宽的Versicolor鸢尾花（花瓣长4.8厘米，宽1.8厘米） ，然后重新训练一个决策树，你可能得到如图6-8所示的模型。 \n",
    "![](img/6-8.png)"
   ]
  },
  {
   "cell_type": "code",
   "execution_count": null,
   "metadata": {},
   "outputs": [],
   "source": []
  }
 ],
 "metadata": {
  "kernelspec": {
   "display_name": "Python 3",
   "language": "python",
   "name": "python3"
  },
  "language_info": {
   "codemirror_mode": {
    "name": "ipython",
    "version": 3
   },
   "file_extension": ".py",
   "mimetype": "text/x-python",
   "name": "python",
   "nbconvert_exporter": "python",
   "pygments_lexer": "ipython3",
   "version": "3.7.3"
  },
  "toc-autonumbering": true
 },
 "nbformat": 4,
 "nbformat_minor": 2
}
