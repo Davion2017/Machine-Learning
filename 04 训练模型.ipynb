{
 "cells": [
  {
   "cell_type": "markdown",
   "metadata": {
    "toc-hr-collapsed": false
   },
   "source": [
    "- 第四章 训练模型\n",
    "- 了解模型时具体如何工作的\n",
    "- 有助于快速定位到合适的模型、正确的训练算法以及一套适当的超参数\n",
    "- 后期还能更高效地执行错误调试和错误分析。\n",
    "- 本章从最简单的线性回归模型开始介绍两种非常不同的训练模型的方法\n",
    ">1. 通过“闭式”方程——直接计算出最适合训练集的模型参数（也就是使训练集上的成本函数最小化的模型参数）\n",
    ">2. 使用迭代优化的方法，即梯度下降（GD），逐渐调整模型参数直至训练集上的成本函数调至最低，最终趋同于第一种方法计算出来的模型参数。我们还会研究几个梯度下降的变体，包括批量梯度下降、小批量梯度下降以及随机梯度下降。等我们进入到第二部分神经网络的学习时，会频繁地使用这几个变体。"
   ]
  },
  {
   "cell_type": "markdown",
   "metadata": {
    "toc-hr-collapsed": true
   },
   "source": [
    "# 线性回归"
   ]
  },
  {
   "cell_type": "markdown",
   "metadata": {
    "toc-hr-collapsed": false
   },
   "source": [
    "## 公式推导"
   ]
  },
  {
   "cell_type": "markdown",
   "metadata": {},
   "source": [
    "### 线性回归模型预测\n",
    "$$ \\hat{y}=\\theta_0+\\theta_1X_1+\\theta_2X_2+……+\\theta_nX_n $$\n",
    "- $\\hat{y}$是预测值\n",
    "- $n$是特征数量\n",
    "- $X_i$是第i个特诊值\n",
    "- $\\theta_j$是第j个模型参数"
   ]
  },
  {
   "cell_type": "markdown",
   "metadata": {},
   "source": [
    "### 线性回归模型预测（向量化）\n",
    "$$ \\hat{y}=h_{\\theta}(X)=\\theta^T·X $$\n",
    "- $\\theta$是模型的参数向量\n",
    "- $X$是实例的特征向量，$X_0$永远为1\n",
    "- $h_\\theta$是模型参数$\\theta$的假设函数"
   ]
  },
  {
   "cell_type": "markdown",
   "metadata": {
    "toc-hr-collapsed": false
   },
   "source": [
    "### 线性回归模型的MSE成本函数\n",
    "$$ MSE(X, h_\\theta)=\\frac{1}{m}\\sum^m_{i=1}(\\theta^T·X^{(i)}-y^{i})^2 $$\n",
    ">这里要求是让整个成本函数最小的$\\theta$值"
   ]
  },
  {
   "cell_type": "markdown",
   "metadata": {},
   "source": [
    "### 标准方程\n",
    "$$ \\hat{\\theta}=(X^T·X)^{-1}·X^T·y $$\n",
    "- $\\hat{\\theta}$是使成本函数最小的$\\theta$值\n",
    "- $y$是目标值向量"
   ]
  },
  {
   "cell_type": "markdown",
   "metadata": {},
   "source": [
    ">公式测试"
   ]
  },
  {
   "cell_type": "markdown",
   "metadata": {
    "toc-hr-collapsed": true
   },
   "source": [
    "## 代码实现"
   ]
  },
  {
   "cell_type": "code",
   "execution_count": 1,
   "metadata": {},
   "outputs": [],
   "source": [
    "import numpy as np"
   ]
  },
  {
   "cell_type": "code",
   "execution_count": 11,
   "metadata": {},
   "outputs": [],
   "source": [
    "X = 2 * np.random.rand(100, 1)\n",
    "y = 4 + 3 * X + np.random.randn(100, 1)   # 后面加入噪声"
   ]
  },
  {
   "cell_type": "code",
   "execution_count": 12,
   "metadata": {},
   "outputs": [
    {
     "data": {
      "image/png": "[encoded data removed]",
      "text/plain": [
       "<Figure size 432x288 with 1 Axes>"
      ]
     },
     "metadata": {
      "needs_background": "light"
     },
     "output_type": "display_data"
    }
   ],
   "source": [
    "import matplotlib.pyplot as plt\n",
    "plt.plot(X, y, '.')\n",
    "plt.axis = ([0, 2, 0, 14])\n",
    "plt.show()"
   ]
  },
  {
   "cell_type": "code",
   "execution_count": 13,
   "metadata": {},
   "outputs": [],
   "source": [
    "# 使用标准方差测试公式\n",
    "X_b = np.c_[np.ones((100, 1)), X]     # 添加X0为1\n",
    "# linalg.inv()求逆， dot()求内积\n",
    "theta_best = np.linalg.inv(X_b.T.dot(X_b)).dot(X_b.T).dot(y)"
   ]
  },
  {
   "cell_type": "code",
   "execution_count": 14,
   "metadata": {},
   "outputs": [
    {
     "data": {
      "text/plain": [
       "array([[4.04964624],\n",
       "       [3.05690949]])"
      ]
     },
     "execution_count": 14,
     "metadata": {},
     "output_type": "execute_result"
    }
   ],
   "source": [
    "theta_best"
   ]
  },
  {
   "cell_type": "markdown",
   "metadata": {},
   "source": [
    "<small>因为有噪声，所以不可能与原来设置的参数完全一样</small>"
   ]
  },
  {
   "cell_type": "code",
   "execution_count": 15,
   "metadata": {},
   "outputs": [],
   "source": [
    "# 使用theta_best做出预测\n",
    "X_new = np.array([[0], [2]])\n",
    "X_new_b = np.c_[np.ones((2, 1)), X_new]"
   ]
  },
  {
   "cell_type": "code",
   "execution_count": 16,
   "metadata": {},
   "outputs": [
    {
     "data": {
      "text/plain": [
       "array([[ 4.04964624],\n",
       "       [10.16346523]])"
      ]
     },
     "execution_count": 16,
     "metadata": {},
     "output_type": "execute_result"
    }
   ],
   "source": [
    "y_predict = X_new_b.dot(theta_best)\n",
    "y_predict"
   ]
  },
  {
   "cell_type": "code",
   "execution_count": 17,
   "metadata": {},
   "outputs": [
    {
     "data": {
      "text/plain": [
       "<matplotlib.legend.Legend at 0x2788845ebe0>"
      ]
     },
     "execution_count": 17,
     "metadata": {},
     "output_type": "execute_result"
    },
    {
     "data": {
      "image/png": "[encoded data removed]",
      "text/plain": [
       "<Figure size 432x288 with 1 Axes>"
      ]
     },
     "metadata": {
      "needs_background": "light"
     },
     "output_type": "display_data"
    }
   ],
   "source": [
    "# 预测结果可视化\n",
    "plt.rcParams['font.sans-serif'] = ['SimHei']\n",
    "plt.rcParams['axes.unicode_minus'] = False\n",
    "plt.plot(X_new, y_predict, 'r-', label='预测结果')\n",
    "plt.plot(X, y, '.')\n",
    "plt.axis = ([0, 2, 0, 14])\n",
    "plt.legend(loc='upper left')"
   ]
  },
  {
   "cell_type": "markdown",
   "metadata": {
    "toc-hr-collapsed": true
   },
   "source": [
    "## 计算复杂度\n",
    "- 标准方程求逆的矩阵XT·X，是一个n×n矩阵（n是特征数量）。对这种矩阵求逆的计算复杂度通常为O（n2.4）到O（n3）之间（取决于计算实现）。换句话说，如果将特征数量翻倍，那么计算时间将乘以大约22.4＝5.3倍到23＝8倍之间\n",
    "- 特征数量比较大（例如100000）时，标准方程的计算将极其缓慢\n",
    "- 训练耗时长，预测时比较快"
   ]
  },
  {
   "cell_type": "markdown",
   "metadata": {
    "toc-hr-collapsed": true
   },
   "source": [
    "# 梯度下降"
   ]
  },
  {
   "cell_type": "markdown",
   "metadata": {
    "toc-hr-collapsed": true
   },
   "source": [
    "## 理论推导"
   ]
  },
  {
   "cell_type": "markdown",
   "metadata": {
    "toc-hr-collapsed": true
   },
   "source": [
    "### 概述\n",
    "- 梯度下降是一种非常通用的优化算法，能够为大范围的问题找到最优解,梯度下降的中心思想就是迭代地调整参数从而使成本函数最小化\n",
    "- 假设你迷失在山上的浓雾之中，你能感觉到的只有你脚下路面的坡度。快速到达山脚的一个策略就是沿着最陡的方向下坡。\n",
    "- 这就是梯度下降的做法：通过测量参数向量θ相关的误差函数的局部梯度，并不断沿着降低梯度的方向调整，直到梯度降为0，到达最小值！\n",
    "- 具体来说，首先使用一个随机的θ值（这被称为随机初始化），然后逐步改进，每次踏出一步，每一步都尝试降低一点成本函数（如MSE），直到算法收敛出一个最小值\n",
    "\n",
    "![](img/4-3.png)"
   ]
  },
  {
   "cell_type": "markdown",
   "metadata": {
    "toc-hr-collapsed": true
   },
   "source": [
    "### 步长的选取\n",
    "- 梯度下降中一个重要参数是每一步的步长，这取决于超参数学习率。 \n",
    "- 如果学习率太低， 算法需要经过大量迭代才能收敛， 这将耗费很长时间\n",
    "> ![](img/4-4.png)\n",
    "\n",
    "- 如果学习率太高，那你可能会越过山谷直接到达山的另一边，甚至有可能比之前的起点还要高。这会导致算法发散，值越来越大 最后无法找到好的解决方案\n",
    "> ![](img/4-5.png)"
   ]
  },
  {
   "cell_type": "markdown",
   "metadata": {},
   "source": [
    "### 梯度下降陷阱\n",
    "- 并不是所有的成本函数看起来都像一个漂亮的碗。有的可能看着像洞、像山脉、像高原或者是各种不规则的地形，导致很难收敛到最小值。\n",
    "- 图4-6显示了梯度下降的两个主要挑战：如果随机初始化，算法从左侧起步，那么会收敛到一个局部最小值，而不是全局最小值。如果算法从右侧起步，那么需要经过很长时间才能越过整片高原，如果你停下得太早，将永远达不到全局最小值\n",
    ">![](img/4-6.png)\n",
    "\n",
    "- 线性回归模型的MSE成本函数恰好是个凸函数，所以不存在局部最小值\n",
    "- 有时候特征值进行缩放会更容易达到全局最小值\n",
    ">![](img/4-7.png)"
   ]
  },
  {
   "cell_type": "markdown",
   "metadata": {},
   "source": [
    "### 批量梯度下降"
   ]
  },
  {
   "cell_type": "markdown",
   "metadata": {},
   "source": [
    "- 要实现梯度下降，需要计算每个模型关于参数$θ_j$的成本函数的梯度。 \n",
    "- 你需要计算的是如果改变$θ_j$， 成本函数会改变多少。这被称为偏导数\n",
    ">$$ \\frac{\\partial}{\\partial\\theta_j}MSE(\\theta)=\\frac{2}{m}\\sum^m_{i=1}(\\theta^T·X^{(i)}-y^{i})x_j^{(i)} $$\n",
    "\n",
    "- 成本函数梯度向量\n",
    ">$$ \\nabla_{\\theta} MSE(\\theta)=\\frac{2}{m}X^T·(X·\\theta-y) $$\n",
    "\n",
    "- 计算梯度下降的每一步时，都是基于完整的训练集X的。这就是为什么该算法会被称为批量梯度下降：每一步都使用整批训练数据。因此，面对<font color='red'>非常庞大</font>的训练集时，算法会变得极慢（不过我们即将看到快得多的梯度下降算法）。但是，梯度下降算法随<font color='red'>特征数量扩展</font>的表现比较好：如果要训练的线性模型拥有几十万个特征，使用梯度下降比标准方程要快得多。"
   ]
  },
  {
   "cell_type": "markdown",
   "metadata": {},
   "source": [
    "### 梯度下降步长\n",
    "$$ \\theta^{(nextstep)}=\\theta-\\eta\\nabla_{\\theta}MSE(\\theta) $$"
   ]
  },
  {
   "cell_type": "markdown",
   "metadata": {},
   "source": [
    "## 代码实现"
   ]
  },
  {
   "cell_type": "code",
   "execution_count": 18,
   "metadata": {},
   "outputs": [
    {
     "name": "stdout",
     "output_type": "stream",
     "text": [
      "[[4.04964624]\n",
      " [3.05690949]]\n"
     ]
    }
   ],
   "source": [
    "eta = 0.1    # 学习率\n",
    "n_interations = 1000   # 迭代次数\n",
    "m = 100\n",
    "theta = np.random.randn(2, 1)\n",
    "for iteration in range(n_interations):\n",
    "    grandients = 2/m * X_b.T.dot(X_b.dot(theta) - y)\n",
    "    theta -= eta * grandients\n",
    "print(theta)"
   ]
  },
  {
   "cell_type": "markdown",
   "metadata": {},
   "source": [
    "- 结果和上面线性回归的差不多"
   ]
  },
  {
   "cell_type": "code",
   "execution_count": 19,
   "metadata": {},
   "outputs": [],
   "source": [
    "def plot_gradient_descent(theta, eta, theta_path=None):\n",
    "    m = len(X_b)\n",
    "    plt.plot(X, y, \"b.\")\n",
    "    n_iterations = 1000\n",
    "    for iteration in range(n_iterations):\n",
    "        if iteration < 10:\n",
    "            y_predict = X_new_b.dot(theta)\n",
    "            style = \"b-\" if iteration > 0 else \"r--\"\n",
    "            plt.plot(X_new, y_predict, style)\n",
    "        gradients = 2/m * X_b.T.dot(X_b.dot(theta) - y)\n",
    "        theta = theta - eta * gradients\n",
    "    plt.xlabel(\"$x_1$\", fontsize=18)\n",
    "    plt.axis = ([0, 2, 0, 15])\n",
    "    plt.title(r\"$\\eta = {}$\".format(eta), fontsize=16)"
   ]
  },
  {
   "cell_type": "code",
   "execution_count": 20,
   "metadata": {},
   "outputs": [
    {
     "data": {
      "image/png": "[encoded data removed]",
      "text/plain": [
       "<Figure size 720x288 with 3 Axes>"
      ]
     },
     "metadata": {
      "needs_background": "light"
     },
     "output_type": "display_data"
    }
   ],
   "source": [
    "np.random.seed(42)\n",
    "theta = np.random.randn(2,1)  # random initialization\n",
    "\n",
    "plt.figure(figsize=(10,4))\n",
    "plt.subplot(131); plot_gradient_descent(theta, eta=0.02)\n",
    "plt.ylabel(\"$y$\", rotation=0, fontsize=18)\n",
    "plt.subplot(132); plot_gradient_descent(theta, eta=0.1)\n",
    "plt.subplot(133); plot_gradient_descent(theta, eta=0.5)"
   ]
  },
  {
   "cell_type": "markdown",
   "metadata": {},
   "source": [
    "- 左边学习率太低，右边学习率太高\n",
    "- 可以通过网格搜索找到合适的学习率，需要限制迭代次数\n",
    ">- 如果设置太低， 算法可能在离最优解还很远时就停了； \n",
    ">- 但是如果设置得太高， 模型达到最优解后， 继续迭代参数不再变化， 又会浪费时间。 \n",
    ">- 一个简单的办法是， 在开始时设置一个非常大的迭代次数， \n",
    ">- 但是当梯度向量的值变得很微小时中断算法——也就是当它的范数变得低于（称为容差） 时，\n",
    ">- 因为这时梯度下降已经（几乎） 到达了最小值。"
   ]
  },
  {
   "cell_type": "markdown",
   "metadata": {
    "toc-hr-collapsed": true
   },
   "source": [
    "## 随机梯度下降"
   ]
  },
  {
   "cell_type": "markdown",
   "metadata": {},
   "source": [
    "### 分析\n",
    "- 批量梯度下降的主要问题是它要用整个训练集来计算每一步的梯度， 所以训练集很大时， 算法会特别慢。 \n",
    "- 与之相反的极端是随机梯度下降， 每一步在训练集中随机选择一个实例， 并且仅基于该单个实例\n",
    "来计算梯度。\n",
    "- 显然， 这让算法变得快多了， 因为每个迭代都只需要操作少量的数据。 它也可以被用来训练海量的数据集， 因为每次迭代只需要在内存中运行一个实例即可\n",
    "- 由于算法的随机性质， 它比批量梯度下降要不规则得多。 成本函数将不再是缓缓降低直到抵达最小值， 而是不断上上下下， 但是从整体来看， 还是在慢慢下降。 随着时间推移， 最终会非常接近最小值， 但是即使它到达了最小值， 依旧还会持续反弹， 永远不会停止（见图4-9） 。 所以算法停下来的参数值肯定是<font color='red'>足够好</font>的， 但<mark>不是最优</mark>的。\n",
    "![](img/4-9.png)\n",
    "- 随机性的好处在于可以逃离局部最优， 但缺点是永远定位不出最小值。 \n",
    "- 要解决这个困境，有一个办法是逐步降低学习率。开始的步长比较大（这有助于快速进展和逃离局部最小值），然后越来越小，让算法尽量靠近全局最小值。 （过程叫作模拟退火）"
   ]
  },
  {
   "cell_type": "markdown",
   "metadata": {},
   "source": [
    "### 代码实现"
   ]
  },
  {
   "cell_type": "code",
   "execution_count": 21,
   "metadata": {},
   "outputs": [],
   "source": [
    "n_epochs = 50\n",
    "t0, t1 = 5, 50\n",
    "def learning_schedule(t):\n",
    "    return t0 / (t + t1)\n",
    "\n",
    "theta = np.random.randn(2, 1)\n",
    "\n",
    "for epoch in range(n_epochs):\n",
    "    for i in range(m):\n",
    "        random_index = np.random.randint(m)\n",
    "        xi = X_b[random_index : random_index + 1]\n",
    "        yi = y[random_index : random_index + 1]\n",
    "        grandients = 2 * xi.T.dot(xi.dot(theta) - yi)\n",
    "        eat = learning_schedule(epoch * m + i)\n",
    "        theta -= eta * grandients"
   ]
  },
  {
   "cell_type": "code",
   "execution_count": 22,
   "metadata": {},
   "outputs": [
    {
     "data": {
      "text/plain": [
       "array([[4.24542723],\n",
       "       [3.03701388]])"
      ]
     },
     "execution_count": 22,
     "metadata": {},
     "output_type": "execute_result"
    }
   ],
   "source": [
    "theta"
   ]
  },
  {
   "cell_type": "markdown",
   "metadata": {},
   "source": [
    "### 使用sklearn API实现随机梯度下降"
   ]
  },
  {
   "cell_type": "code",
   "execution_count": 23,
   "metadata": {},
   "outputs": [
    {
     "data": {
      "text/plain": [
       "SGDRegressor(alpha=0.0001, average=False, early_stopping=False, epsilon=0.1,\n",
       "             eta0=0.1, fit_intercept=True, l1_ratio=0.15,\n",
       "             learning_rate='invscaling', loss='squared_loss', max_iter=50,\n",
       "             n_iter_no_change=5, penalty=None, power_t=0.25, random_state=42,\n",
       "             shuffle=True, tol=-inf, validation_fraction=0.1, verbose=0,\n",
       "             warm_start=False)"
      ]
     },
     "execution_count": 23,
     "metadata": {},
     "output_type": "execute_result"
    }
   ],
   "source": [
    "from sklearn.linear_model import SGDRegressor\n",
    "sgd_reg = SGDRegressor(max_iter=50, penalty=None, eta0=0.1, random_state=42, tol=-np.infty)\n",
    "sgd_reg.fit(X, y.ravel())"
   ]
  },
  {
   "cell_type": "code",
   "execution_count": 24,
   "metadata": {},
   "outputs": [
    {
     "name": "stdout",
     "output_type": "stream",
     "text": [
      "斜率： [4.06110635]\n",
      "截距 [3.06541784]\n"
     ]
    }
   ],
   "source": [
    "print('斜率：', sgd_reg.intercept_)    # 截距\n",
    "print('截距', sgd_reg.coef_)        # 斜率"
   ]
  },
  {
   "cell_type": "markdown",
   "metadata": {
    "toc-hr-collapsed": true
   },
   "source": [
    "## 小批量梯度下降"
   ]
  },
  {
   "cell_type": "markdown",
   "metadata": {},
   "source": [
    "- 每一步的梯度计算， 既不是基于整个训练集（如批量梯度下降） 也不是基于单个实例（如随机梯度下降） \n",
    "-  而是基于一小部分随机的实例集也就是小批量\n",
    "- 小批量梯度下降的主要优势在于可以从矩阵运算的硬件优化中获得显著的性能提升， 特别是需要用到图形处理器时\n",
    "- 这个算法在参数空间层面的前进过程也不像SGD那样不稳定， 特别是批量较大时。 所以小批量梯度下降最终会比SGD更接近最小值一些。 但是另一方面， 它可能更难从局部最小值中逃脱\n",
    "\n",
    "![](img/4-11.png)"
   ]
  },
  {
   "cell_type": "markdown",
   "metadata": {},
   "source": [
    "- 线性回归算法比较\n",
    "<small>m为训练集数量，n为预测集数量</small>\n",
    "\n",
    "![](img/4-1.png)"
   ]
  },
  {
   "cell_type": "markdown",
   "metadata": {
    "toc-hr-collapsed": true
   },
   "source": [
    "# 多项式回归"
   ]
  },
  {
   "cell_type": "markdown",
   "metadata": {},
   "source": [
    "## 概述\n",
    "- 如果数据比简单的直线更为复杂， 该怎么办？ \n",
    "- 令人意想不到的是， 其实你也可以用线性模型来拟合非线性数据。 \n",
    "- 一个简单的方法就是将每个特征的幂次方添加为一个新特征， 然后在这个拓展过的特征集上训练线性模型。 \n",
    "- 这种方法被称为多项式回归。"
   ]
  },
  {
   "cell_type": "markdown",
   "metadata": {},
   "source": [
    "## 代码实现"
   ]
  },
  {
   "cell_type": "code",
   "execution_count": 25,
   "metadata": {},
   "outputs": [],
   "source": [
    "m = 100\n",
    "X = 6 * np.random.rand(m, 1) - 3\n",
    "y = 0.5 * (X**2) + X + 2 + np.random.randn(m, 1)"
   ]
  },
  {
   "cell_type": "code",
   "execution_count": 26,
   "metadata": {},
   "outputs": [
    {
     "data": {
      "text/plain": [
       "[<matplotlib.lines.Line2D at 0x2788a9c7390>]"
      ]
     },
     "execution_count": 26,
     "metadata": {},
     "output_type": "execute_result"
    },
    {
     "data": {
      "image/png": "[encoded data removed]",
      "text/plain": [
       "<Figure size 432x288 with 1 Axes>"
      ]
     },
     "metadata": {
      "needs_background": "light"
     },
     "output_type": "display_data"
    }
   ],
   "source": [
    "plt.plot(X, y, '.')   # 原始数据"
   ]
  },
  {
   "cell_type": "markdown",
   "metadata": {},
   "source": [
    "- 显然， 直线永远不可能拟合这个数据。 所以我们使用Scikit-Learn的PolynomialFeatures类来对训练数据进行转换， 将每个特征的平方（二次多项式） 作为新特征加入训练集"
   ]
  },
  {
   "cell_type": "code",
   "execution_count": 27,
   "metadata": {},
   "outputs": [],
   "source": [
    "from sklearn.preprocessing import PolynomialFeatures\n",
    "poly_features = PolynomialFeatures(degree=2, include_bias=False)\n",
    "X_poly = poly_features.fit_transform(X)"
   ]
  },
  {
   "cell_type": "code",
   "execution_count": 28,
   "metadata": {},
   "outputs": [
    {
     "data": {
      "text/plain": [
       "[<matplotlib.lines.Line2D at 0x2788aa676a0>]"
      ]
     },
     "execution_count": 28,
     "metadata": {},
     "output_type": "execute_result"
    },
    {
     "data": {
      "image/png": "[encoded data removed]",
      "text/plain": [
       "<Figure size 432x288 with 1 Axes>"
      ]
     },
     "metadata": {
      "needs_background": "light"
     },
     "output_type": "display_data"
    }
   ],
   "source": [
    "plt.plot(X, X_poly[:,1], '.')"
   ]
  },
  {
   "cell_type": "code",
   "execution_count": 29,
   "metadata": {},
   "outputs": [],
   "source": [
    "from sklearn.linear_model import LinearRegression\n",
    "lin_reg = LinearRegression()"
   ]
  },
  {
   "cell_type": "code",
   "execution_count": 30,
   "metadata": {},
   "outputs": [
    {
     "data": {
      "text/plain": [
       "LinearRegression(copy_X=True, fit_intercept=True, n_jobs=None, normalize=False)"
      ]
     },
     "execution_count": 30,
     "metadata": {},
     "output_type": "execute_result"
    }
   ],
   "source": [
    "lin_reg.fit(X_poly, y)"
   ]
  },
  {
   "cell_type": "code",
   "execution_count": 31,
   "metadata": {},
   "outputs": [
    {
     "name": "stdout",
     "output_type": "stream",
     "text": [
      "截距： [2.23493498]\n",
      "斜率： [[0.91667792 0.46089666]]\n"
     ]
    }
   ],
   "source": [
    "print('截距：', lin_reg.intercept_)\n",
    "print('斜率：', lin_reg.coef_)"
   ]
  },
  {
   "cell_type": "code",
   "execution_count": 32,
   "metadata": {},
   "outputs": [
    {
     "data": {
      "text/plain": [
       "<matplotlib.legend.Legend at 0x2788aac7f28>"
      ]
     },
     "execution_count": 32,
     "metadata": {},
     "output_type": "execute_result"
    },
    {
     "data": {
      "image/png": "[encoded data removed]",
      "text/plain": [
       "<Figure size 432x288 with 1 Axes>"
      ]
     },
     "metadata": {
      "needs_background": "light"
     },
     "output_type": "display_data"
    }
   ],
   "source": [
    "X_new=np.linspace(-3, 3, 100).reshape(100, 1)\n",
    "X_new_poly = poly_features.transform(X_new)\n",
    "y_new = lin_reg.predict(X_new_poly)\n",
    "plt.plot(X, y, '.')\n",
    "plt.plot(X_new, y_new, 'r-', label='预测结果')\n",
    "plt.legend(loc='upper left')"
   ]
  },
  {
   "cell_type": "markdown",
   "metadata": {
    "toc-hr-collapsed": true
   },
   "source": [
    "# 学习曲线"
   ]
  },
  {
   "cell_type": "markdown",
   "metadata": {},
   "source": [
    "## 概述\n",
    "- 高阶多项式回归对训练数据的拟合， 很可能会比简单线性回归要好。"
   ]
  },
  {
   "cell_type": "code",
   "execution_count": 84,
   "metadata": {},
   "outputs": [
    {
     "data": {
      "image/png": "[encoded data removed]",
      "text/plain": [
       "<Figure size 432x288 with 1 Axes>"
      ]
     },
     "metadata": {
      "needs_background": "light"
     },
     "output_type": "display_data"
    }
   ],
   "source": [
    "from sklearn.preprocessing import StandardScaler\n",
    "from sklearn.pipeline import Pipeline\n",
    "\n",
    "for style, width, degree in ((\"g-\", 1, 300), (\"b--\", 2, 2), (\"r-+\", 2, 1)):\n",
    "    polybig_features = PolynomialFeatures(degree=degree, include_bias=False)\n",
    "    std_scaler = StandardScaler()\n",
    "    lin_reg = LinearRegression()\n",
    "    polynomial_regression = Pipeline([\n",
    "            (\"poly_features\", polybig_features),\n",
    "            (\"std_scaler\", std_scaler),\n",
    "            (\"lin_reg\", lin_reg),\n",
    "        ])\n",
    "    polynomial_regression.fit(X, y)\n",
    "    y_newbig = polynomial_regression.predict(X_new)\n",
    "    plt.plot(X_new, y_newbig, style, label=str(degree), linewidth=width)\n",
    "\n",
    "plt.plot(X, y, \"b.\", linewidth=3)\n",
    "plt.legend(loc=\"upper left\")\n",
    "plt.xlabel(\"$x_1$\", fontsize=18)\n",
    "plt.ylabel(\"$y$\", rotation=0, fontsize=18)\n",
    "plt.xlim(-3,3)\n",
    "plt.ylim(0,10)\n",
    "plt.show()"
   ]
  },
  {
   "cell_type": "markdown",
   "metadata": {},
   "source": [
    ">- 当多项式阶数为300时，出现了过度拟合的现象\n",
    ">- 线性回归时，无法拟合\n",
    ">- 多项式为2时拟合效果最好"
   ]
  },
  {
   "cell_type": "markdown",
   "metadata": {},
   "source": [
    "- 如何确定模型的复杂程度呢？ 怎么才能判断模型是过度拟合还是拟合不足呢？\n",
    "- 交叉验证来评估模型的泛化性能。 \n",
    ">- 如果模型在训练集上表现良好， 但是交叉验证的泛化表现非常糟糕， 那么模型就是过度拟合。 \n",
    ">- 如果在二者上的表现都不佳， 那就是拟合不足。\n",
    "- 学习曲线\n",
    ">- 这个曲线绘制的是模型在训练集和验证集上， 关于“训练集大小”的性能函数。 \n",
    ">- 要生成这个曲线， 只需要在不同大小的训练子集上多次训练模型即可。"
   ]
  },
  {
   "cell_type": "markdown",
   "metadata": {},
   "source": [
    "## 绘制学习曲线"
   ]
  },
  {
   "cell_type": "code",
   "execution_count": 51,
   "metadata": {},
   "outputs": [],
   "source": [
    "from sklearn.metrics import mean_squared_error\n",
    "from sklearn.model_selection import train_test_split\n",
    "\n",
    "def plot_learning_curves(model, X, y):\n",
    "    X_train, X_val, y_train, y_val = train_test_split(X, y, test_size=0.2)\n",
    "    train_errors, val_errors = [], []\n",
    "    for m in range(1, len(X_train)):\n",
    "        model.fit(X_train[:m], y_train[:m])\n",
    "        y_train_predict = model.predict(X_train[:m])\n",
    "        y_val_predict = model.predict(X_val)\n",
    "        train_errors.append(mean_squared_error(y_train_predict, y_train[:m]))\n",
    "        val_errors.append(mean_squared_error(y_val_predict, y_val))\n",
    "    plt.plot(np.sqrt(train_errors), 'r-+', linewidth=2, label='训练集')\n",
    "    plt.plot(np.sqrt(val_errors), 'b-', linewidth=3, label='验证集')\n",
    "    plt.legend(loc='upper right')"
   ]
  },
  {
   "cell_type": "code",
   "execution_count": 77,
   "metadata": {},
   "outputs": [
    {
     "data": {
      "image/png": "[encoded data removed]",
      "text/plain": [
       "<Figure size 432x288 with 1 Axes>"
      ]
     },
     "metadata": {
      "needs_background": "light"
     },
     "output_type": "display_data"
    }
   ],
   "source": [
    "lin_reg = LinearRegression()\n",
    "plot_learning_curves(lin_reg, X, y)"
   ]
  },
  {
   "cell_type": "markdown",
   "metadata": {},
   "source": [
    "- 这条学习曲线是典型的模型拟合不足。 两条曲线均到达高地， 非常接近， 而且相当高。"
   ]
  },
  {
   "cell_type": "code",
   "execution_count": 79,
   "metadata": {},
   "outputs": [],
   "source": [
    "from sklearn.pipeline import Pipeline"
   ]
  },
  {
   "cell_type": "code",
   "execution_count": 87,
   "metadata": {},
   "outputs": [
    {
     "data": {
      "text/plain": [
       "(0, 3)"
      ]
     },
     "execution_count": 87,
     "metadata": {},
     "output_type": "execute_result"
    },
    {
     "data": {
      "image/png": "[encoded data removed]",
      "text/plain": [
       "<Figure size 432x288 with 1 Axes>"
      ]
     },
     "metadata": {
      "needs_background": "light"
     },
     "output_type": "display_data"
    }
   ],
   "source": [
    "polynomial_regression = Pipeline((\n",
    "    ('poly_features', PolynomialFeatures(degree=10, include_bias=False)),\n",
    "    ('sgd_reg', LinearRegression()),\n",
    "))\n",
    "plot_learning_curves(polynomial_regression, X, y)\n",
    "plt.xlim(0,80)\n",
    "plt.ylim(0,3)"
   ]
  },
  {
   "cell_type": "markdown",
   "metadata": {},
   "source": [
    "- 这里的误差低于线性回归\n",
    "- 两条曲线有一定差距，这意味着该模型在训练数据上的表现比验证集上要好很多， 这正是过度拟合的标志"
   ]
  },
  {
   "cell_type": "code",
   "execution_count": 91,
   "metadata": {},
   "outputs": [
    {
     "data": {
      "text/plain": [
       "(0, 3)"
      ]
     },
     "execution_count": 91,
     "metadata": {},
     "output_type": "execute_result"
    },
    {
     "data": {
      "image/png": "[encoded data removed]",
      "text/plain": [
       "<Figure size 432x288 with 1 Axes>"
      ]
     },
     "metadata": {
      "needs_background": "light"
     },
     "output_type": "display_data"
    }
   ],
   "source": [
    "polynomial_regression = Pipeline((\n",
    "    ('poly_features', PolynomialFeatures(degree=2, include_bias=False)),\n",
    "    ('sgd_reg', LinearRegression()),\n",
    "))\n",
    "plot_learning_curves(polynomial_regression, X, y)\n",
    "plt.xlim(0,80)\n",
    "plt.ylim(0,3)"
   ]
  },
  {
   "cell_type": "markdown",
   "metadata": {
    "toc-hr-collapsed": true
   },
   "source": [
    "## 偏差/方差权衡"
   ]
  },
  {
   "cell_type": "markdown",
   "metadata": {},
   "source": [
    "### 在统计学和机器学习领域， 一个重要的理论结果是， 模型的泛化误差可以被表示为三个截然不同的误差之和：\n",
    "\n",
    "1. 偏差\n",
    ">这部分泛化误差的原因在于错误的假设，比如假设数据是线性的，而实际上是二次的。高偏差模型最有可能对训练数据拟合不足\n",
    "2. 方差\n",
    "> 这部分误差是由于模型对训练数据的微小变化过度敏感导致的。具有高自由度的模型（例如高阶多项式模型）很可能也有高方差，所以很容易对训练数据过度拟合\n",
    "3. 不可避免误差\n",
    "> 这部分误差是因为数据本身的噪声所致。 减少这部分误差的唯一方法就是清理数据（例如修复数据源， 如损坏的传感器， 或者是检测并移除异常值）"
   ]
  },
  {
   "cell_type": "markdown",
   "metadata": {
    "toc-hr-collapsed": false
   },
   "source": [
    "# 正则线性模型"
   ]
  },
  {
   "cell_type": "markdown",
   "metadata": {},
   "source": [
    "## 概述\n",
    "- 减少过度拟合的一个好办法就是对模型正则化（即约束它） ： 它拥有的自由度越低， 就越不容易过度拟合数据。 比如， 将多项式模型正则化的简单方法就是降低多项式的阶数\n",
    "- 对线性模型来说， 正则化通常通过约束模型的权重来实现。 接下来我们将会使用岭回归（Ridge Regression）、套索回归（LassoRegression）及弹性网络（Elastic Net）这三种不同的实现方法对权重进行约束。"
   ]
  },
  {
   "cell_type": "markdown",
   "metadata": {
    "toc-hr-collapsed": true
   },
   "source": [
    "## 岭回归"
   ]
  },
  {
   "cell_type": "markdown",
   "metadata": {},
   "source": [
    "- 岭回归（也叫作吉洪诺夫正则化） 是线性回归的正则化版： 在成本函数中添加一个等于$ \\alpha\\sum_{i=1}^n\\theta_i^2 $的正则项\n",
    "- 这使得学习中的算法不仅需要拟合数据， 同时还要让模型权重保持最小\n",
    "- 注意， 正则项只能在训练的时候添加到成本函数中， 一旦训练完成， 你需要使用未经正则化的性能指标来评估模型性能。\n",
    "- 超参数α控制的是对模型进行正则化的程度。 如果α=0， 则岭回归就是线性模型。 如果α非常大， 那么所有的权重都将非常接近于零， 结果是一条穿过数据平均值的水平线。"
   ]
  },
  {
   "cell_type": "markdown",
   "metadata": {},
   "source": [
    "### 岭回归成本函数\n",
    "$$ J(\\theta)=MSE(\\theta)+\\alpha\\frac{1}{2}\\sum_{(i=1)}^n\\theta_i^2 $$\n",
    "- 左边是直接使用岭回归，右边是经过10阶多项式后再岭回归\n",
    "\n",
    "![](img/4-17.png)"
   ]
  },
  {
   "cell_type": "markdown",
   "metadata": {},
   "source": [
    "### 闭式解的岭回归\n",
    "<small>其中A是一个n×n的单位矩阵，除了左上单元格为0， 其他与偏置项对应</small>\n",
    "$$ \\hat{\\theta}=(X^T·X+\\alpha A)^{-1}·X^T·y $$"
   ]
  },
  {
   "cell_type": "code",
   "execution_count": 94,
   "metadata": {},
   "outputs": [
    {
     "data": {
      "text/plain": [
       "array([[4.94257461]])"
      ]
     },
     "execution_count": 94,
     "metadata": {},
     "output_type": "execute_result"
    }
   ],
   "source": [
    "from sklearn.linear_model import Ridge\n",
    "ridge_reg = Ridge(alpha=1, solver='cholesky')\n",
    "ridge_reg.fit(X, y)\n",
    "ridge_reg.predict([[1.5]])"
   ]
  },
  {
   "cell_type": "code",
   "execution_count": 102,
   "metadata": {},
   "outputs": [
    {
     "name": "stderr",
     "output_type": "stream",
     "text": [
      "C:\\Users\\Davion\\Anaconda3\\lib\\site-packages\\sklearn\\utils\\validation.py:724: DataConversionWarning: A column-vector y was passed when a 1d array was expected. Please change the shape of y to (n_samples, ), for example using ravel().\n",
      "  y = column_or_1d(y, warn=True)\n"
     ]
    },
    {
     "data": {
      "text/plain": [
       "array([4.92716094])"
      ]
     },
     "execution_count": 102,
     "metadata": {},
     "output_type": "execute_result"
    }
   ],
   "source": [
    "sgd_reg = SGDRegressor()\n",
    "sgd_reg.fit(X, y)\n",
    "sgd_reg.predict([[1.5]])"
   ]
  },
  {
   "cell_type": "code",
   "execution_count": 103,
   "metadata": {},
   "outputs": [
    {
     "data": {
      "text/plain": [
       "[<matplotlib.lines.Line2D at 0x2788f2ff048>]"
      ]
     },
     "execution_count": 103,
     "metadata": {},
     "output_type": "execute_result"
    },
    {
     "data": {
      "image/png": "[encoded data removed]",
      "text/plain": [
       "<Figure size 432x288 with 1 Axes>"
      ]
     },
     "metadata": {
      "needs_background": "light"
     },
     "output_type": "display_data"
    }
   ],
   "source": [
    "plt.plot(X, y, '.')"
   ]
  },
  {
   "cell_type": "markdown",
   "metadata": {
    "toc-hr-collapsed": true
   },
   "source": [
    "## Lasso回归"
   ]
  },
  {
   "cell_type": "markdown",
   "metadata": {},
   "source": [
    "- 线性回归的另一种正则化， 叫作最小绝对收缩和选择算子回归（Least Absolute Shrinkage and Selection Operator Regression， 简称Lasso回归， 或套索回归）\n",
    "- 与岭回归一样， 它也是向成本函数增加一个正则项， 但是它增加的是权重向量的l1范数， 而不是l2范数的平方的一半。"
   ]
  },
  {
   "cell_type": "markdown",
   "metadata": {},
   "source": [
    "### Lasso回归成本函数\n",
    "$$ J(\\theta)=MSE(\\theta)+\\alpha\\sum_{i=1}^n|\\theta_i| $$\n",
    "- Lasso回归的一个重要特点是它倾向于完全消除掉最不重要特征的权重（也就是将它们设置为零）。\n",
    "- 因为所有高阶多项式的特征权重都等于零。 换句话说， Lasso回归会自动执行特征选择并输出一个稀疏模型（即只有很少的特征有非零权重）\n",
    "![](img/4-18.png)"
   ]
  },
  {
   "cell_type": "markdown",
   "metadata": {},
   "source": [
    "![](img/4-19.png)"
   ]
  },
  {
   "cell_type": "markdown",
   "metadata": {},
   "source": [
    "### Lasso回归次梯度向量\n",
    "![](img/4-19-1.png)"
   ]
  },
  {
   "cell_type": "code",
   "execution_count": 104,
   "metadata": {},
   "outputs": [
    {
     "data": {
      "text/plain": [
       "array([4.89715424])"
      ]
     },
     "execution_count": 104,
     "metadata": {},
     "output_type": "execute_result"
    }
   ],
   "source": [
    "from sklearn.linear_model import Lasso\n",
    "lasso_reg = Lasso(alpha=0.1)\n",
    "lasso_reg.fit(X, y)\n",
    "lasso_reg.predict([[1.5]])"
   ]
  },
  {
   "cell_type": "markdown",
   "metadata": {
    "toc-hr-collapsed": true
   },
   "source": [
    "## 弹性网络"
   ]
  },
  {
   "cell_type": "markdown",
   "metadata": {},
   "source": [
    "- 弹性网络是岭回归与Lasso回归之间的中间地带。 \n",
    "- 其正则项就是岭回归和Lasso回归的正则项的混合， 混合比例通过r来控制。 \n",
    "- 当r＝0时， 弹性网络即等同于岭回归， \n",
    "- 而当r＝1时， 即相当于Lasso回归"
   ]
  },
  {
   "cell_type": "markdown",
   "metadata": {},
   "source": [
    "### 弹性网络成本函数\n",
    "$$ J(\\theta)=MSE(\\theta)+r\\alpha\\sum_{i=1}^n|\\theta_i|+\\frac{1-r}{2}\\alpha\\sum_{i=1}^n\\theta_i^2 $$"
   ]
  },
  {
   "cell_type": "markdown",
   "metadata": {},
   "source": [
    "- 那么， 到底如何选用线性回归、 岭回归、 Lasso回归和弹性网络呢？ \n",
    "- 通常来说， 有正则化——哪怕是很小， 总是比没有更可取一些。\n",
    "- 所以大多数情况下， 你应该避免使用纯线性回归。 \n",
    "- <mark>岭回归是个不错的默认选择</mark>， \n",
    "- 但是如果你觉得<mark>实际用到的特征只有少数几个</mark>， 那就应该更倾向于Lasso回归或是弹性网络， 因为它们会将无用特征的权重降为零。\n",
    "- 一般而言， 弹性网络优于Lasso回归， 因为当特征数量超过训练实例数量， 又或者是几个特征强相关时， Lasso回归的表现可能非常不稳定。"
   ]
  },
  {
   "cell_type": "markdown",
   "metadata": {
    "toc-hr-collapsed": true
   },
   "source": [
    "## 早期停止法"
   ]
  },
  {
   "cell_type": "markdown",
   "metadata": {},
   "source": [
    "- 对于梯度下降这一类迭代学习的算法， 还有一个与众不同的正则化方法， 就是在验证误差达到最小值时停止训练， 该方法叫作早期停止法。 \n",
    "- 经过一轮一轮的训练， 算法不断地学习， 训练集上的预测误差（RMSE） 自然不断下降， \n",
    "- 同样其在验证集上的预测误差也随之下降。\n",
    "- 但是， 一段时间之后， 验证误差停止下降反而开始回升。\n",
    "- 这说明模型开始过度拟合训练数据。\n",
    "- 通过早期停止法， 一旦验证误差达到最小值就立刻停止训练。\n",
    "- 这是一个非常简单而有效的正则化技巧， 所以Geoffrey Hinton称其为“美丽的免费午餐”。\n",
    "\n",
    "![](img/4-20.png)\n",
    "\n",
    "<small>对随机梯度下降和小批量梯度下降来说， 曲线没有这么平滑， 所以很难知道是否已经达到最小值。 <mark>一种解决方法是等验证误差超过最小值一段时间之后再停止</mark>（这时你可以确信模型不会变得更好了） ， 然后将模型参数回滚到验证误差最小时的位置。</small>"
   ]
  },
  {
   "cell_type": "markdown",
   "metadata": {},
   "source": [
    "### 代码演示"
   ]
  },
  {
   "cell_type": "code",
   "execution_count": 108,
   "metadata": {},
   "outputs": [],
   "source": [
    "np.random.seed(42)\n",
    "m = 100\n",
    "X = 6 * np.random.rand(m, 1) - 3\n",
    "y = 2 + X + 0.5 * X**2 + np.random.randn(m, 1)\n",
    "\n",
    "X_train, X_val, y_train, y_val = train_test_split(X[:50], y[:50].ravel(), test_size=0.5, random_state=10)\n",
    "\n",
    "poly_scaler = Pipeline([\n",
    "        (\"poly_features\", PolynomialFeatures(degree=90, include_bias=False)),\n",
    "        (\"std_scaler\", StandardScaler()),\n",
    "    ])\n",
    "\n",
    "X_train_poly_scaled = poly_scaler.fit_transform(X_train)\n",
    "X_val_poly_scaled = poly_scaler.transform(X_val)"
   ]
  },
  {
   "cell_type": "code",
   "execution_count": 109,
   "metadata": {},
   "outputs": [],
   "source": [
    "from sklearn.base import clone\n",
    "sgd_reg = SGDRegressor(max_iter=1, tol=-np.infty, warm_start=True, penalty=None,\n",
    "                       learning_rate=\"constant\", eta0=0.0005, random_state=42)"
   ]
  },
  {
   "cell_type": "code",
   "execution_count": 111,
   "metadata": {},
   "outputs": [],
   "source": [
    "minimun_val_error = float('inf')\n",
    "best_epoch = None\n",
    "best_model = None\n",
    "for epoch in range(1000):\n",
    "    sgd_reg.fit(X_train_poly_scaled, y_train)\n",
    "    y_val_predict = sgd_reg.predict(X_val_poly_scaled)\n",
    "    val_error = mean_squared_error(y_val_predict, y_val)\n",
    "    if val_error < minimun_val_error:\n",
    "        minimun_val_error = val_error\n",
    "        best_epoch = epoch\n",
    "        best_model = clone(sgd_reg)"
   ]
  },
  {
   "cell_type": "code",
   "execution_count": 114,
   "metadata": {},
   "outputs": [
    {
     "data": {
      "text/plain": [
       "(1.3513110512453865,\n",
       " 238,\n",
       " SGDRegressor(alpha=0.0001, average=False, early_stopping=False, epsilon=0.1,\n",
       "              eta0=0.0005, fit_intercept=True, l1_ratio=0.15,\n",
       "              learning_rate='constant', loss='squared_loss', max_iter=1,\n",
       "              n_iter_no_change=5, penalty=None, power_t=0.25, random_state=42,\n",
       "              shuffle=True, tol=-inf, validation_fraction=0.1, verbose=0,\n",
       "              warm_start=True))"
      ]
     },
     "execution_count": 114,
     "metadata": {},
     "output_type": "execute_result"
    }
   ],
   "source": [
    "minimun_val_error, best_epoch, best_model"
   ]
  },
  {
   "cell_type": "markdown",
   "metadata": {
    "toc-hr-collapsed": false
   },
   "source": [
    "## 逻辑回归"
   ]
  },
  {
   "cell_type": "markdown",
   "metadata": {},
   "source": [
    "### 概述\n",
    "逻辑回归（Logistic回归， 也称为罗吉思回归） 被广泛用于估算一个实例属于某个特定类别的概率。 （比如， 这封电子邮件属于垃圾邮件的概率是多少？ ） 如果预估概率超过50%， 则模型预测该实例属于该类别（称为正类， 标记为“1”） ， 反之， 则预测不是（也就是负类， 标记为“0”） 。 这样它就成了一个二元分类器。"
   ]
  },
  {
   "cell_type": "markdown",
   "metadata": {
    "toc-hr-collapsed": true
   },
   "source": [
    "### 概率估算"
   ]
  },
  {
   "cell_type": "markdown",
   "metadata": {},
   "source": [
    "#### 逻辑回归模型概率估算（向量化形式）\n",
    "$$ \\hat{p}=h_{\\theta}(X)=\\sigma(\\theta^T·x) $$\n",
    ">逻辑模型（也称为罗吉特），是一个sigmoid函数（即S形），记作σ（·），它的输出为一个0到1之间的数字。"
   ]
  },
  {
   "cell_type": "markdown",
   "metadata": {},
   "source": [
    "#### 逻辑函数\n",
    "$$\\sigma(t)=\\frac{1}{1+exp(-t)}$$"
   ]
  },
  {
   "cell_type": "code",
   "execution_count": 123,
   "metadata": {},
   "outputs": [
    {
     "data": {
      "text/plain": [
       "(-0.1, 1.1)"
      ]
     },
     "execution_count": 123,
     "metadata": {},
     "output_type": "execute_result"
    },
    {
     "data": {
      "image/png": "[encoded data removed]",
      "text/plain": [
       "<Figure size 648x216 with 1 Axes>"
      ]
     },
     "metadata": {
      "needs_background": "light"
     },
     "output_type": "display_data"
    }
   ],
   "source": [
    "t = np.linspace(-10, 10, 100)\n",
    "sig = 1 / (1 + np.exp(-t))\n",
    "plt.figure(figsize=(9, 3))\n",
    "plt.plot(t, sig, '-')\n",
    "plt.plot([-10, 10], [0, 0], \"k-\")\n",
    "plt.plot([-10, 10], [0.5, 0.5], \"k:\")\n",
    "plt.plot([-10, 10], [1, 1], \"k:\")\n",
    "plt.plot([0, 0], [-1.1, 1.1], \"k-\")\n",
    "plt.xlim(-10, 10)\n",
    "plt.ylim(-0.1, 1.1)"
   ]
  },
  {
   "cell_type": "markdown",
   "metadata": {},
   "source": [
    "#### 逻辑回归模型预测\n",
    "![](img/4-21-1.png)"
   ]
  },
  {
   "cell_type": "markdown",
   "metadata": {
    "toc-hr-collapsed": true
   },
   "source": [
    "### 训练和成本函数"
   ]
  },
  {
   "cell_type": "markdown",
   "metadata": {},
   "source": [
    "#### 单个训练实例的成本函数\n",
    "![](img/4-21-2.png)"
   ]
  },
  {
   "cell_type": "markdown",
   "metadata": {},
   "source": [
    "#### 逻辑回归成本函数（log损失函数）"
   ]
  },
  {
   "cell_type": "markdown",
   "metadata": {},
   "source": [
    "$$ J(\\theta)=-\\frac{1}{m}\\sum_{i=1}^m[y^ilog(\\hat{p}^i)+(1-y^i)log(1-\\hat{p}^i)] $$\n",
    ">- 坏消息是，这个函数没有已知的闭式方程（不存在一个标准方程的等价方程） 来计算出最小化成本函数的θ值。 \n",
    ">- 好消息是，这是个凸函数，所以通过梯度下降（或是其他任意优化算法）保证能够\n",
    "找出全局最小值"
   ]
  },
  {
   "cell_type": "markdown",
   "metadata": {},
   "source": [
    "#### Logistic成本函数的偏导数\n",
    "$$ \\frac{\\partial}{\\partial\\theta_i}J(\\theta)=\\frac{1}{m}\\sum_{i=1}^m(\\sigma(\\theta^T·x^i)-y^i)x_j^i $$\n",
    ">计算出每个实例的预测误差， 并将其乘以第j个特征值， 然后再对所有训练实例求平均值。"
   ]
  },
  {
   "cell_type": "markdown",
   "metadata": {
    "toc-hr-collapsed": true
   },
   "source": [
    "### 决策边界\n",
    "- 这里用鸢尾植物数据集来说明逻辑回归"
   ]
  },
  {
   "cell_type": "markdown",
   "metadata": {},
   "source": [
    "#### iris数据集\n",
    "- 这是一个非常著名的数据集，\n",
    "- 共有150朵鸢尾花， \n",
    "- 分别来自三个不同品种： Setosa鸢尾花、 Versicolor鸢尾花和Virginica鸢尾花，\n",
    "- 数据里包含花的萼片以及花瓣的长度和宽度\n",
    "\n",
    "- 我们试试仅基于花瓣宽度这一个特征， 创建一个分类器来检测\n",
    "Virginica鸢尾花"
   ]
  },
  {
   "cell_type": "code",
   "execution_count": 124,
   "metadata": {},
   "outputs": [],
   "source": [
    "from sklearn import datasets\n",
    "iris = datasets.load_iris()"
   ]
  },
  {
   "cell_type": "code",
   "execution_count": 126,
   "metadata": {},
   "outputs": [
    {
     "data": {
      "text/plain": [
       "dict_keys(['data', 'target', 'target_names', 'DESCR', 'feature_names', 'filename'])"
      ]
     },
     "execution_count": 126,
     "metadata": {},
     "output_type": "execute_result"
    }
   ],
   "source": [
    "iris.keys()"
   ]
  },
  {
   "cell_type": "code",
   "execution_count": 131,
   "metadata": {},
   "outputs": [
    {
     "data": {
      "text/plain": [
       "(['sepal length (cm)',\n",
       "  'sepal width (cm)',\n",
       "  'petal length (cm)',\n",
       "  'petal width (cm)'],\n",
       " array(['setosa', 'versicolor', 'virginica'], dtype='<U10'))"
      ]
     },
     "execution_count": 131,
     "metadata": {},
     "output_type": "execute_result"
    }
   ],
   "source": [
    "iris['feature_names'], iris['target_names']"
   ]
  },
  {
   "cell_type": "markdown",
   "metadata": {},
   "source": [
    "#### 使用逻辑回归，仅基于花瓣宽度这一个特征， 创建一个分类器来检测 Virginica鸢尾花"
   ]
  },
  {
   "cell_type": "code",
   "execution_count": 132,
   "metadata": {},
   "outputs": [],
   "source": [
    "X = iris['data'][:,3]     # 只看花瓣宽度特征\n",
    "y = (iris['target'] == 2) # 判断是非为Virginica鸢尾花"
   ]
  },
  {
   "cell_type": "code",
   "execution_count": 141,
   "metadata": {},
   "outputs": [],
   "source": [
    "from sklearn.linear_model import LogisticRegression\n",
    "log_reg = LogisticRegression(solver=\"liblinear\", random_state=42)"
   ]
  },
  {
   "cell_type": "code",
   "execution_count": 145,
   "metadata": {},
   "outputs": [
    {
     "name": "stderr",
     "output_type": "stream",
     "text": [
      "C:\\Users\\Davion\\Anaconda3\\lib\\site-packages\\sklearn\\utils\\validation.py:724: DataConversionWarning: A column-vector y was passed when a 1d array was expected. Please change the shape of y to (n_samples, ), for example using ravel().\n",
      "  y = column_or_1d(y, warn=True)\n"
     ]
    },
    {
     "data": {
      "text/plain": [
       "LogisticRegression(C=1.0, class_weight=None, dual=False, fit_intercept=True,\n",
       "                   intercept_scaling=1, l1_ratio=None, max_iter=100,\n",
       "                   multi_class='warn', n_jobs=None, penalty='l2',\n",
       "                   random_state=42, solver='liblinear', tol=0.0001, verbose=0,\n",
       "                   warm_start=False)"
      ]
     },
     "execution_count": 145,
     "metadata": {},
     "output_type": "execute_result"
    }
   ],
   "source": [
    "log_reg.fit(X.reshape(-1,1), y.reshape(-1,1))"
   ]
  },
  {
   "cell_type": "code",
   "execution_count": 146,
   "metadata": {},
   "outputs": [],
   "source": [
    "X_new = np.linspace(0,3,1000).reshape(-1, 1)\n",
    "y_proba = log_reg.predict_proba(X_new)"
   ]
  },
  {
   "cell_type": "code",
   "execution_count": 158,
   "metadata": {},
   "outputs": [
    {
     "data": {
      "text/plain": [
       "Text(0, 0.5, '概率')"
      ]
     },
     "execution_count": 158,
     "metadata": {},
     "output_type": "execute_result"
    },
    {
     "data": {
      "image/png": "[encoded data removed]",
      "text/plain": [
       "<Figure size 432x288 with 1 Axes>"
      ]
     },
     "metadata": {
      "needs_background": "light"
     },
     "output_type": "display_data"
    }
   ],
   "source": [
    "plt.plot(X_new, y_proba[:,1], 'g-', label='Virginica鸢尾花')\n",
    "plt.plot(X_new, y_proba[:,0], 'b--', label='非Virginica鸢尾花')\n",
    "plt.legend(loc='center left', fontsize=12)\n",
    "plt.xlabel('花瓣宽度（cm）', fontsize=16)\n",
    "plt.ylabel('概率', fontsize=16)"
   ]
  },
  {
   "cell_type": "code",
   "execution_count": 159,
   "metadata": {},
   "outputs": [
    {
     "data": {
      "text/plain": [
       "array([ True, False])"
      ]
     },
     "execution_count": 159,
     "metadata": {},
     "output_type": "execute_result"
    }
   ],
   "source": [
    "log_reg.predict([[1.7], [1.5]])"
   ]
  },
  {
   "cell_type": "markdown",
   "metadata": {},
   "source": [
    "#### 使用逻辑回归，基于花瓣宽度和花瓣长度， 创建一个分类器来检测 Virginica鸢尾花"
   ]
  },
  {
   "cell_type": "code",
   "execution_count": 173,
   "metadata": {},
   "outputs": [],
   "source": [
    "X = iris['data'][:,(2,3)]\n",
    "y = (iris['target'] == 2)"
   ]
  },
  {
   "cell_type": "code",
   "execution_count": 174,
   "metadata": {},
   "outputs": [
    {
     "data": {
      "text/plain": [
       "LogisticRegression(C=1.0, class_weight=None, dual=False, fit_intercept=True,\n",
       "                   intercept_scaling=1, l1_ratio=None, max_iter=100,\n",
       "                   multi_class='warn', n_jobs=None, penalty='l2',\n",
       "                   random_state=42, solver='liblinear', tol=0.0001, verbose=0,\n",
       "                   warm_start=False)"
      ]
     },
     "execution_count": 174,
     "metadata": {},
     "output_type": "execute_result"
    }
   ],
   "source": [
    "log_reg.fit(X, y)"
   ]
  },
  {
   "cell_type": "markdown",
   "metadata": {
    "toc-hr-collapsed": true
   },
   "source": [
    "### Softmax回归"
   ]
  },
  {
   "cell_type": "markdown",
   "metadata": {},
   "source": [
    "- 逻辑回归模型经过推广，可以直接支持多个类别，而不需要训练并组合多个二元分类器\n",
    "- 这就是Softmax回归， 或者叫多元逻辑回归。\n",
    "- 对于一个给定的实例x，Softmax回归模型首先计算出每个类别k的分数sk（x），然后对这些分数应用softmax函数（也叫归一化指数），估算出每个类别的概率"
   ]
  },
  {
   "cell_type": "markdown",
   "metadata": {},
   "source": [
    "#### 类别k的Softmax分数\n",
    "$$ S_k(X)=\\theta_k^T·X $$\n"
   ]
  },
  {
   "cell_type": "markdown",
   "metadata": {},
   "source": [
    "计算完实例x每个类别的分数后，就可以通过Softmax函数来计算分数：计算出每个分数的指数，然后对它们进行归一化处理（除以所有指数的总和）即得到 ，也就是实例属于类别k的概率"
   ]
  },
  {
   "cell_type": "markdown",
   "metadata": {},
   "source": [
    "#### Softmax函数\n",
    "$$ \\hat{p}_k=\\sigma(S(X))_k=\\frac{exp(S_k(X))}{\\sum_{j=1}^Kexp(s_j(X))} $$\n",
    "- K是类别变量\n",
    "- s（x） 是实例x每个类别的分数的向量\n",
    "- $ \\sigma(S(X))_k $是给定的类别分数下， 实例x属于类别k的概率"
   ]
  },
  {
   "cell_type": "markdown",
   "metadata": {},
   "source": [
    "#### Softmax回归分类器预测\n",
    "- 跟逻辑回归分类器一样， Softmax回归分类器将估算概率值最高的类别作为预测类别（也就是分数最高的类别） \n",
    "- ·argmax运算符返回的是使函数最大化所对应的变量的值。 在这个等式里， 它返回的是使估算概率（s（x） ） k最大的k的值\n",
    "$$ \\hat{y}=argmax_k\\sigma(S(X))_k=argmax_ks_k(X)=argmax_k(\\theta_k^T·X) $$"
   ]
  },
  {
   "cell_type": "markdown",
   "metadata": {},
   "source": [
    "Softmax回归分类器一次只会预测一个类别（也就是说，它是多类别，但是不是多输出），所以它应该仅适用于互斥的类别之上，例如植物的不同种类。 你不能用它来识别一张照片中的多个人"
   ]
  },
  {
   "cell_type": "markdown",
   "metadata": {},
   "source": [
    "#### 交叉熵成本函数\n",
    "$$ J(\\Theta)=-\\frac{1}{m}\\sum_{i=1}^m\\sum_{k=1}^Ky_k^{(i)}log(\\hat{p}_k^{(i)}) $$\n",
    "- 如果第i个实例的目标类别为k， 则$y_k$等于1， 否则为0。\n",
    "- 注意， 当只有两个类别（K=2） 时， 该成本函数等价于逻辑回归的成本函数\n",
    "- 因为当模型对目标类别做出较低概率的估算时， 会受到惩罚。 交叉熵经常被用于衡量一组估算出的类别概率跟目标类别的匹配程度"
   ]
  },
  {
   "cell_type": "markdown",
   "metadata": {},
   "source": [
    "##### 交叉熵\n",
    "- 交叉熵源于信息理论。 \n",
    "- 假设你想要有效传递每天的天气信息，\n",
    "- 选项（晴、下雨等）有8个，那么你可以用3比特对每个选项进行编码，因为$2^3$=8。\n",
    "- 但是， 如果你认为几乎每天都是晴天，那么，对“晴天”用1比特（0），其他七个类别用4比特（从1开始）进行编码，显然会更有效率一些。\n",
    "- 交叉熵衡量的是你每次发送天气选项的平均比特数。\n",
    "- 如果你对天气的假设是完美的， 交叉熵将会等于天气本身的熵（也就是其本身固有的不可预测性）。\n",
    "- 但是如果你的假设是错误的（比如经常下雨），交叉熵将会变大，增加的这一部分我们称之为KL散度（Kullback-Leibler divergence， 也叫作相对熵） 。"
   ]
  },
  {
   "cell_type": "markdown",
   "metadata": {},
   "source": [
    "- 两个概率分布p和q之间的交叉熵定义为H（p， q） =-Σxp（x） log q（x） 至少在离散分布时可以这样定义）"
   ]
  },
  {
   "cell_type": "markdown",
   "metadata": {},
   "source": [
    "#### 对于类别k的交叉熵梯度向量\n",
    "$$ \\nabla_{\\theta_{k}}J{\\Theta}=\\frac{1}{m}\\sum_{i=1}^m(\\hat{p}_k^{(i)}-y_k^{(i)})X^{(i)} $$"
   ]
  },
  {
   "cell_type": "code",
   "execution_count": 188,
   "metadata": {},
   "outputs": [],
   "source": [
    "X = iris['data'][:,(2,3)]\n",
    "y = iris['target']"
   ]
  },
  {
   "cell_type": "code",
   "execution_count": 194,
   "metadata": {},
   "outputs": [
    {
     "data": {
      "text/plain": [
       "LogisticRegression(C=10, class_weight=None, dual=False, fit_intercept=True,\n",
       "                   intercept_scaling=1, l1_ratio=None, max_iter=100,\n",
       "                   multi_class='multinomial', n_jobs=None, penalty='l2',\n",
       "                   random_state=42, solver='lbfgs', tol=0.0001, verbose=0,\n",
       "                   warm_start=False)"
      ]
     },
     "execution_count": 194,
     "metadata": {},
     "output_type": "execute_result"
    }
   ],
   "source": [
    "softmax_reg = LogisticRegression(multi_class='multinomial', solver='lbfgs', C=10, random_state=42)\n",
    "softmax_reg.fit(X, y)"
   ]
  },
  {
   "cell_type": "code",
   "execution_count": 195,
   "metadata": {},
   "outputs": [
    {
     "data": {
      "text/plain": [
       "array([2])"
      ]
     },
     "execution_count": 195,
     "metadata": {},
     "output_type": "execute_result"
    }
   ],
   "source": [
    "softmax_reg.predict([[5, 2]])"
   ]
  },
  {
   "cell_type": "code",
   "execution_count": 196,
   "metadata": {},
   "outputs": [
    {
     "data": {
      "text/plain": [
       "array([[6.38014896e-07, 5.74929995e-02, 9.42506362e-01]])"
      ]
     },
     "execution_count": 196,
     "metadata": {},
     "output_type": "execute_result"
    }
   ],
   "source": [
    "softmax_reg.predict_proba([[5, 2]])"
   ]
  },
  {
   "cell_type": "code",
   "execution_count": 198,
   "metadata": {},
   "outputs": [
    {
     "data": {
      "text/plain": [
       "(0, 3.5)"
      ]
     },
     "execution_count": 198,
     "metadata": {},
     "output_type": "execute_result"
    },
    {
     "data": {
      "image/png": "[encoded data removed]",
      "text/plain": [
       "<Figure size 720x288 with 1 Axes>"
      ]
     },
     "metadata": {
      "needs_background": "light"
     },
     "output_type": "display_data"
    }
   ],
   "source": [
    "x0, x1 = np.meshgrid(\n",
    "        np.linspace(0, 8, 500).reshape(-1, 1),\n",
    "        np.linspace(0, 3.5, 200).reshape(-1, 1),\n",
    "    )\n",
    "X_new = np.c_[x0.ravel(), x1.ravel()]\n",
    "\n",
    "\n",
    "y_proba = softmax_reg.predict_proba(X_new)\n",
    "y_predict = softmax_reg.predict(X_new)\n",
    "\n",
    "zz1 = y_proba[:, 1].reshape(x0.shape)\n",
    "zz = y_predict.reshape(x0.shape)\n",
    "\n",
    "plt.figure(figsize=(10, 4))\n",
    "plt.plot(X[y==2, 0], X[y==2, 1], \"g^\", label=\"Virginica\")\n",
    "plt.plot(X[y==1, 0], X[y==1, 1], \"bs\", label=\"Versicolor\")\n",
    "plt.plot(X[y==0, 0], X[y==0, 1], \"yo\", label=\"Setosa\")\n",
    "\n",
    "from matplotlib.colors import ListedColormap\n",
    "custom_cmap = ListedColormap(['#fafab0','#9898ff','#a0faa0'])\n",
    "\n",
    "plt.contourf(x0, x1, zz, cmap=custom_cmap)\n",
    "contour = plt.contour(x0, x1, zz1, cmap=plt.cm.brg)\n",
    "plt.clabel(contour, inline=1, fontsize=12)\n",
    "plt.xlabel(\"Petal length\", fontsize=14)\n",
    "plt.ylabel(\"Petal width\", fontsize=14)\n",
    "plt.legend(loc=\"center left\", fontsize=14)\n",
    "plt.xlim(0, 7)\n",
    "plt.ylim(0, 3.5)"
   ]
  },
  {
   "cell_type": "code",
   "execution_count": null,
   "metadata": {},
   "outputs": [],
   "source": []
  }
 ],
 "metadata": {
  "kernelspec": {
   "display_name": "Python 3",
   "language": "python",
   "name": "python3"
  },
  "language_info": {
   "codemirror_mode": {
    "name": "ipython",
    "version": 3
   },
   "file_extension": ".py",
   "mimetype": "text/x-python",
   "name": "python",
   "nbconvert_exporter": "python",
   "pygments_lexer": "ipython3",
   "version": "3.7.3"
  },
  "toc-autonumbering": true,
  "toc-showtags": false
 },
 "nbformat": 4,
 "nbformat_minor": 2
}
