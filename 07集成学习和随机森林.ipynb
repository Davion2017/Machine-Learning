{
 "cells": [
  {
   "cell_type": "markdown",
   "metadata": {},
   "source": [
    "第7章 集成学习和随机森林\n",
    "- 如果你聚合一组预测器（比如分类器或回归器）的预测，\n",
    "- 得到的预测结果也比最好的单个预测器要好。\n",
    "- 这样的一组预测器， 我们称为集成，\n",
    "- 所以这种技术， 也被称为集成学习，\n",
    "- 而一个集成学习的算法则被称为集成方法。"
   ]
  },
  {
   "cell_type": "markdown",
   "metadata": {
    "toc-hr-collapsed": true
   },
   "source": [
    "# 投票分类器"
   ]
  },
  {
   "cell_type": "markdown",
   "metadata": {},
   "source": [
    "## 实验\n",
    "- 假设你已经训练好了一些分类器， 每个分类器的准确率约为80%。\n",
    "- 大概包括：\n",
    "- 一个逻辑回归分类器、 \n",
    "- 一个SVM分类器、 \n",
    "- 一个随机\n",
    "- 森林分类器、\n",
    "- 一个K-近邻分类器，\n",
    "- 或许还有更多\n",
    "\n",
    "![](img/7-1.png)\n",
    "\n",
    "- 这时， 要创建出一个更好的分类器，\n",
    "- 最简单的办法就是聚合每个分类器的预测，\n",
    "- 然后将得票最多的结果作为预测类别。\n",
    "- 这种大多数投票分类器被称为硬投票分类器\n",
    "\n",
    "![](img/7-2.png)\n",
    "\n",
    "- 这个投票法分类器的准确率通常比集成中最好的分类器还要高。\n",
    "- 事实上，即使每个分类器都是弱学习器（意味着它仅比随机猜测好一点），\n",
    "- 通过集成依然可以实现一个强学习器（高准确率），\n",
    "- 只要有足够大数量并且足够多种类的弱学习器就可以。"
   ]
  },
  {
   "cell_type": "markdown",
   "metadata": {},
   "source": [
    "## 大数定理\n",
    "- 假设你有一个略微偏倚的硬币，它有51%的可能正面数字朝上，49%的可能背面花朝上。\n",
    "- 在1000次投掷后，大多数为正面朝上”的概率接近75%。投掷硬币的次数越多，这个概率越高（例如，投掷10000次后，这个概率攀升至97%）。\n",
    "- 随着你不断投掷硬币，正面朝上的比率越来越接近于正面的概率（51%） \n",
    "\n",
    "![](img/7-3.png)"
   ]
  },
  {
   "cell_type": "markdown",
   "metadata": {
    "toc-hr-collapsed": true
   },
   "source": [
    "## 代码示例"
   ]
  },
  {
   "cell_type": "markdown",
   "metadata": {},
   "source": [
    "### 硬投票法"
   ]
  },
  {
   "cell_type": "code",
   "execution_count": 1,
   "metadata": {},
   "outputs": [],
   "source": [
    "from sklearn.ensemble import RandomForestClassifier\n",
    "from sklearn.ensemble import VotingClassifier\n",
    "from sklearn.linear_model import LogisticRegression\n",
    "from sklearn.svm import SVC\n",
    "\n",
    "log_clf = LogisticRegression(random_state=42, solver='liblinear')\n",
    "rnd_clf = RandomForestClassifier(random_state=42, n_estimators=10)\n",
    "svm_clf = SVC(gamma=\"auto\", random_state=42)"
   ]
  },
  {
   "cell_type": "code",
   "execution_count": 2,
   "metadata": {},
   "outputs": [],
   "source": [
    "from sklearn.datasets import make_moons\n",
    "from sklearn.model_selection import train_test_split\n",
    "X, y = make_moons(n_samples=500, noise=0.30, random_state=42)\n",
    "X_train, X_test, y_train, y_test = train_test_split(X, y, random_state=42)"
   ]
  },
  {
   "cell_type": "code",
   "execution_count": 3,
   "metadata": {},
   "outputs": [
    {
     "data": {
      "text/plain": [
       "VotingClassifier(estimators=[('lr',\n",
       "                              LogisticRegression(C=1.0, class_weight=None,\n",
       "                                                 dual=False, fit_intercept=True,\n",
       "                                                 intercept_scaling=1,\n",
       "                                                 l1_ratio=None, max_iter=100,\n",
       "                                                 multi_class='warn',\n",
       "                                                 n_jobs=None, penalty='l2',\n",
       "                                                 random_state=42,\n",
       "                                                 solver='liblinear', tol=0.0001,\n",
       "                                                 verbose=0, warm_start=False)),\n",
       "                             ('rf',\n",
       "                              RandomForestClassifier(bootstrap=True,\n",
       "                                                     class_weight=None,\n",
       "                                                     criterion='gin...\n",
       "                                                     n_estimators=10,\n",
       "                                                     n_jobs=None,\n",
       "                                                     oob_score=False,\n",
       "                                                     random_state=42, verbose=0,\n",
       "                                                     warm_start=False)),\n",
       "                             ('svc',\n",
       "                              SVC(C=1.0, cache_size=200, class_weight=None,\n",
       "                                  coef0=0.0, decision_function_shape='ovr',\n",
       "                                  degree=3, gamma='auto', kernel='rbf',\n",
       "                                  max_iter=-1, probability=False,\n",
       "                                  random_state=42, shrinking=True, tol=0.001,\n",
       "                                  verbose=False))],\n",
       "                 flatten_transform=True, n_jobs=None, voting='hard',\n",
       "                 weights=None)"
      ]
     },
     "execution_count": 3,
     "metadata": {},
     "output_type": "execute_result"
    }
   ],
   "source": [
    "voting_clf = VotingClassifier(\n",
    "    estimators=[('lr', log_clf), ('rf', rnd_clf), ('svc', svm_clf)],\n",
    "    voting='hard'\n",
    ")\n",
    "voting_clf.fit(X_train, y_train)"
   ]
  },
  {
   "cell_type": "code",
   "execution_count": 4,
   "metadata": {},
   "outputs": [
    {
     "name": "stdout",
     "output_type": "stream",
     "text": [
      "LogisticRegression 0.864\n",
      "RandomForestClassifier 0.872\n",
      "SVC 0.888\n",
      "VotingClassifier 0.896\n"
     ]
    }
   ],
   "source": [
    "from sklearn.metrics import accuracy_score\n",
    "for clf in (log_clf, rnd_clf, svm_clf, voting_clf):\n",
    "    clf.fit(X_train, y_train)\n",
    "    y_pred = clf.predict(X_test)\n",
    "    print(clf.__class__.__name__, accuracy_score(y_test, y_pred))"
   ]
  },
  {
   "cell_type": "markdown",
   "metadata": {},
   "source": [
    "### 软投票法"
   ]
  },
  {
   "cell_type": "markdown",
   "metadata": {},
   "source": [
    "- 如果所有分类器都能够估算出类别的概率（即有predict_proba（）方法），\n",
    "- 那么你可以将概率在所有单个分类器上平均，\n",
    "- 然后让Scikit-Learn给出平均概率最高的类别作为预测。这被称为软投票法。 \n",
    "- 通常来说， 它比硬投票法的表现更优， \n",
    "- 因为它给予那些高度自信的投票更高的权重。\n",
    "- 而所有你需要做的就是用voting=\"soft\"代替voting=\"hard\"，\n",
    "- 并确保所有分类器都可以估算出概率。"
   ]
  },
  {
   "cell_type": "code",
   "execution_count": 5,
   "metadata": {},
   "outputs": [
    {
     "name": "stdout",
     "output_type": "stream",
     "text": [
      "LogisticRegression 0.864\n",
      "RandomForestClassifier 0.872\n",
      "SVC 0.888\n",
      "VotingClassifier 0.912\n"
     ]
    }
   ],
   "source": [
    "log_clf = LogisticRegression(random_state=42, solver='liblinear')\n",
    "rnd_clf = RandomForestClassifier(random_state=42, n_estimators=10)\n",
    "svm_clf = SVC(gamma=\"auto\", random_state=42, probability=True)\n",
    "\n",
    "voting_clf = VotingClassifier(\n",
    "    estimators=[('lr', log_clf), ('rf', rnd_clf), ('svc', svm_clf)],\n",
    "    voting='soft'\n",
    ")\n",
    "voting_clf.fit(X_train, y_train)\n",
    "\n",
    "for clf in (log_clf, rnd_clf, svm_clf, voting_clf):\n",
    "    clf.fit(X_train, y_train)\n",
    "    y_pred = clf.predict(X_test)\n",
    "    print(clf.__class__.__name__, accuracy_score(y_test, y_pred))"
   ]
  },
  {
   "cell_type": "markdown",
   "metadata": {
    "toc-hr-collapsed": true
   },
   "source": [
    "# bagging和pasting"
   ]
  },
  {
   "cell_type": "markdown",
   "metadata": {},
   "source": [
    "## 概念\n",
    "- 还有另一种方法是每个预测器使用的算法相同，\n",
    "- 但是在不同的训练集随机子集上进行训练。 采样时如果将样本放回，这种方法叫作bagging（bootstrap aggregating的缩写， 也叫自举汇聚法）；\n",
    "- 采样时样本不放回，这种方法则叫用pasting。\n",
    "\n",
    "![](img/7-4.png)\n",
    "\n",
    "- 一旦预测器训练完成， 集成就可以通过简单地聚合所有预测器的预测， 来对新实例做出预测。\n",
    "- 聚合函数通常是统计法（即最多数的预测好比硬投票分类器一样）用于分类，或是平均法用于回归。\n",
    "- 每个预测器单独的偏差都高于在原始训练集上训练的偏差，\n",
    "- 但是通过聚合，同时降低了偏差和方差。\n",
    "- 总体来说，最终结果是，与直接在原始训练集上训练的单个预测器相比，\n",
    "- 集成的偏差相近，但是方差更低。"
   ]
  },
  {
   "cell_type": "markdown",
   "metadata": {},
   "source": [
    "## 代码示例"
   ]
  },
  {
   "cell_type": "code",
   "execution_count": 6,
   "metadata": {},
   "outputs": [],
   "source": [
    "from sklearn.ensemble import BaggingClassifier\n",
    "from sklearn.tree import DecisionTreeClassifier\n",
    "\n",
    "bag_clf = BaggingClassifier(\n",
    "    DecisionTreeClassifier(random_state=42), n_estimators=500,\n",
    "    max_samples=100, bootstrap=True, n_jobs=-1\n",
    ")"
   ]
  },
  {
   "cell_type": "code",
   "execution_count": 7,
   "metadata": {},
   "outputs": [
    {
     "data": {
      "text/plain": [
       "BaggingClassifier(base_estimator=DecisionTreeClassifier(class_weight=None,\n",
       "                                                        criterion='gini',\n",
       "                                                        max_depth=None,\n",
       "                                                        max_features=None,\n",
       "                                                        max_leaf_nodes=None,\n",
       "                                                        min_impurity_decrease=0.0,\n",
       "                                                        min_impurity_split=None,\n",
       "                                                        min_samples_leaf=1,\n",
       "                                                        min_samples_split=2,\n",
       "                                                        min_weight_fraction_leaf=0.0,\n",
       "                                                        presort=False,\n",
       "                                                        random_state=42,\n",
       "                                                        splitter='best'),\n",
       "                  bootstrap=True, bootstrap_features=False, max_features=1.0,\n",
       "                  max_samples=100, n_estimators=500, n_jobs=-1, oob_score=False,\n",
       "                  random_state=None, verbose=0, warm_start=False)"
      ]
     },
     "execution_count": 7,
     "metadata": {},
     "output_type": "execute_result"
    }
   ],
   "source": [
    "bag_clf.fit(X_train, y_train)"
   ]
  },
  {
   "cell_type": "code",
   "execution_count": 8,
   "metadata": {},
   "outputs": [],
   "source": [
    "y_pred = bag_clf.predict(X_test)"
   ]
  },
  {
   "cell_type": "code",
   "execution_count": 9,
   "metadata": {},
   "outputs": [
    {
     "data": {
      "text/plain": [
       "0.912"
      ]
     },
     "execution_count": 9,
     "metadata": {},
     "output_type": "execute_result"
    }
   ],
   "source": [
    "accuracy_score(y_test, y_pred)"
   ]
  },
  {
   "cell_type": "code",
   "execution_count": 10,
   "metadata": {},
   "outputs": [
    {
     "data": {
      "text/plain": [
       "0.856"
      ]
     },
     "execution_count": 10,
     "metadata": {},
     "output_type": "execute_result"
    }
   ],
   "source": [
    "tree_clf = DecisionTreeClassifier(random_state=42)\n",
    "tree_clf.fit(X_train, y_train)\n",
    "y_pred = tree_clf.predict(X_test)\n",
    "accuracy_score(y_test, y_pred)"
   ]
  },
  {
   "cell_type": "code",
   "execution_count": 11,
   "metadata": {},
   "outputs": [],
   "source": [
    "import matplotlib.pyplot as plt\n",
    "import numpy as np"
   ]
  },
  {
   "cell_type": "code",
   "execution_count": 12,
   "metadata": {},
   "outputs": [],
   "source": [
    "from matplotlib.colors import ListedColormap\n",
    "def plot_decision_boundary(clf, X, y, axes=[-1.5, 2.5, -1, 1.5], alpha=0.5, contour=True):\n",
    "    plt.plot(X[:,0][y==0], X[:, 1][y==0], 'yo')\n",
    "    plt.plot(X[:,0][y==1], X[:, 1][y==1], 'bs')\n",
    "    plt.xlim([axes[0], axes[1]])\n",
    "    plt.ylim([axes[2], axes[3]])\n",
    "    plt.xlabel('$x_1$', fontsize=16)\n",
    "    plt.ylabel('$x_2$', fontsize=16, rotation=0)\n",
    "    \n",
    "    x1s = np.linspace(axes[0], axes[1], 100)\n",
    "    x2s = np.linspace(axes[2], axes[3], 100)\n",
    "    x1, x2 = np.meshgrid(x1s, x2s)\n",
    "    X_new = np.c_[x1.ravel(), x2.ravel()]\n",
    "    y_pred = clf.predict(X_new).reshape(x1.shape)\n",
    "    custom_cmap = ListedColormap(['#fafab0','#9898ff','#a0faa0'])\n",
    "    plt.contourf(x1, x2, y_pred, alpha=0.3, cmap=custom_cmap)\n",
    "    if contour:\n",
    "        custom_cmap2 = ListedColormap(['#7d7d58','#4c4c7f','#507d50'])\n",
    "        plt.contour(x1, x2, y_pred, cmap=custom_cmap2, alpha=0.8)"
   ]
  },
  {
   "cell_type": "code",
   "execution_count": 13,
   "metadata": {},
   "outputs": [
    {
     "data": {
      "image/png": "[encoded data removed]",
      "text/plain": [
       "<Figure size 792x288 with 2 Axes>"
      ]
     },
     "metadata": {
      "needs_background": "light"
     },
     "output_type": "display_data"
    }
   ],
   "source": [
    "plt.figure(figsize=(11,4))\n",
    "plt.subplot(121)\n",
    "plt.title('500个决策树的bagging集成')\n",
    "plot_decision_boundary(bag_clf, X, y)\n",
    "plt.subplot(122)\n",
    "plt.title('单个决策树')\n",
    "plot_decision_boundary(tree_clf, X, y)"
   ]
  },
  {
   "cell_type": "markdown",
   "metadata": {},
   "source": [
    "## 包外评估"
   ]
  },
  {
   "cell_type": "markdown",
   "metadata": {},
   "source": [
    "- 对于任意给定的预测器， 使用bagging，\n",
    "- 有些实例可能会被采样多次，而有些实例则可能根本不被采样。\n",
    "- BaggingClassifier默认采样m个训练实例，然后放回样本（bootstrap=True），\n",
    "- m是训练集的大小。\n",
    "- 这意味着对于每个预测器来说， 平均只对63%的训练实例进行采样。剩余37%未被采样的训练实例称为包外（oob）实例。\n",
    "- 注意，对所有预测器来说，这是不一样的37%。"
   ]
  },
  {
   "cell_type": "markdown",
   "metadata": {},
   "source": [
    "- 既然预测器在训练的时候从未见过这些包外实例，\n",
    "- 正好可以用这些实例进行评估， 从而不需要单独的验证集或是交叉验证。\n",
    "- 将每个预测器在其包外实例上的评估结果进行平均， 你就可以得到对集成的评估"
   ]
  },
  {
   "cell_type": "code",
   "execution_count": 14,
   "metadata": {},
   "outputs": [
    {
     "data": {
      "text/plain": [
       "0.896"
      ]
     },
     "execution_count": 14,
     "metadata": {},
     "output_type": "execute_result"
    }
   ],
   "source": [
    "bag_clf = BaggingClassifier(\n",
    "    DecisionTreeClassifier(random_state=42), n_estimators=500,\n",
    "    bootstrap=True, n_jobs=-1, oob_score=True\n",
    ")\n",
    "bag_clf.fit(X_train, y_train)\n",
    "bag_clf.oob_score_"
   ]
  },
  {
   "cell_type": "code",
   "execution_count": 15,
   "metadata": {},
   "outputs": [
    {
     "data": {
      "text/plain": [
       "0.896"
      ]
     },
     "execution_count": 15,
     "metadata": {},
     "output_type": "execute_result"
    }
   ],
   "source": [
    "y_pred = bag_clf.predict(X_test)\n",
    "accuracy_score(y_test, y_pred)"
   ]
  },
  {
   "cell_type": "code",
   "execution_count": 16,
   "metadata": {},
   "outputs": [
    {
     "data": {
      "text/plain": [
       "array([[0.38502674, 0.61497326],\n",
       "       [0.37195122, 0.62804878],\n",
       "       [1.        , 0.        ],\n",
       "       [0.        , 1.        ],\n",
       "       [0.        , 1.        ],\n",
       "       [0.08064516, 0.91935484],\n",
       "       [0.34517766, 0.65482234],\n",
       "       [0.00540541, 0.99459459],\n",
       "       [0.98941799, 0.01058201],\n",
       "       [0.94915254, 0.05084746],\n",
       "       [0.78651685, 0.21348315],\n",
       "       [0.00552486, 0.99447514],\n",
       "       [0.79347826, 0.20652174],\n",
       "       [0.84816754, 0.15183246],\n",
       "       [0.97536946, 0.02463054],\n",
       "       [0.02325581, 0.97674419],\n",
       "       [0.        , 1.        ],\n",
       "       [0.97814208, 0.02185792],\n",
       "       [0.94797688, 0.05202312],\n",
       "       [1.        , 0.        ],\n",
       "       [0.01522843, 0.98477157],\n",
       "       [0.35025381, 0.64974619],\n",
       "       [0.93406593, 0.06593407],\n",
       "       [1.        , 0.        ],\n",
       "       [0.96202532, 0.03797468],\n",
       "       [0.        , 1.        ],\n",
       "       [0.99428571, 0.00571429],\n",
       "       [1.        , 0.        ],\n",
       "       [0.        , 1.        ],\n",
       "       [0.62983425, 0.37016575],\n",
       "       [0.        , 1.        ],\n",
       "       [1.        , 0.        ],\n",
       "       [0.        , 1.        ],\n",
       "       [0.        , 1.        ],\n",
       "       [0.13636364, 0.86363636],\n",
       "       [1.        , 0.        ],\n",
       "       [0.        , 1.        ],\n",
       "       [0.40721649, 0.59278351],\n",
       "       [0.        , 1.        ],\n",
       "       [1.        , 0.        ],\n",
       "       [0.2       , 0.8       ],\n",
       "       [0.33684211, 0.66315789],\n",
       "       [1.        , 0.        ],\n",
       "       [1.        , 0.        ],\n",
       "       [0.        , 1.        ],\n",
       "       [1.        , 0.        ],\n",
       "       [1.        , 0.        ],\n",
       "       [0.02702703, 0.97297297],\n",
       "       [1.        , 0.        ],\n",
       "       [0.01086957, 0.98913043],\n",
       "       [1.        , 0.        ],\n",
       "       [0.89784946, 0.10215054],\n",
       "       [0.94818653, 0.05181347],\n",
       "       [0.95767196, 0.04232804],\n",
       "       [0.        , 1.        ],\n",
       "       [0.05524862, 0.94475138],\n",
       "       [0.98907104, 0.01092896],\n",
       "       [0.        , 1.        ],\n",
       "       [0.        , 1.        ],\n",
       "       [0.        , 1.        ],\n",
       "       [0.99438202, 0.00561798],\n",
       "       [0.79558011, 0.20441989],\n",
       "       [0.41081081, 0.58918919],\n",
       "       [1.        , 0.        ],\n",
       "       [0.        , 1.        ],\n",
       "       [0.73796791, 0.26203209],\n",
       "       [1.        , 0.        ],\n",
       "       [1.        , 0.        ],\n",
       "       [0.86666667, 0.13333333],\n",
       "       [1.        , 0.        ],\n",
       "       [0.59146341, 0.40853659],\n",
       "       [0.12169312, 0.87830688],\n",
       "       [0.65363128, 0.34636872],\n",
       "       [0.89690722, 0.10309278],\n",
       "       [0.        , 1.        ],\n",
       "       [0.18681319, 0.81318681],\n",
       "       [0.90659341, 0.09340659],\n",
       "       [1.        , 0.        ],\n",
       "       [0.        , 1.        ],\n",
       "       [1.        , 0.        ],\n",
       "       [0.        , 1.        ],\n",
       "       [0.08205128, 0.91794872],\n",
       "       [0.04278075, 0.95721925],\n",
       "       [0.28426396, 0.71573604],\n",
       "       [1.        , 0.        ],\n",
       "       [0.        , 1.        ],\n",
       "       [0.87434555, 0.12565445],\n",
       "       [0.00598802, 0.99401198],\n",
       "       [0.00555556, 0.99444444],\n",
       "       [0.00588235, 0.99411765],\n",
       "       [0.1875    , 0.8125    ],\n",
       "       [1.        , 0.        ],\n",
       "       [0.        , 1.        ],\n",
       "       [0.        , 1.        ],\n",
       "       [0.        , 1.        ],\n",
       "       [0.92485549, 0.07514451],\n",
       "       [0.81437126, 0.18562874],\n",
       "       [0.00561798, 0.99438202],\n",
       "       [1.        , 0.        ],\n",
       "       [0.19075145, 0.80924855],\n",
       "       [0.65294118, 0.34705882],\n",
       "       [0.        , 1.        ],\n",
       "       [0.05670103, 0.94329897],\n",
       "       [0.56345178, 0.43654822],\n",
       "       [1.        , 0.        ],\n",
       "       [0.03333333, 0.96666667],\n",
       "       [0.98918919, 0.01081081],\n",
       "       [0.28205128, 0.71794872],\n",
       "       [0.57627119, 0.42372881],\n",
       "       [1.        , 0.        ],\n",
       "       [0.02234637, 0.97765363],\n",
       "       [0.98333333, 0.01666667],\n",
       "       [0.29508197, 0.70491803],\n",
       "       [0.93604651, 0.06395349],\n",
       "       [1.        , 0.        ],\n",
       "       [1.        , 0.        ],\n",
       "       [0.        , 1.        ],\n",
       "       [0.        , 1.        ],\n",
       "       [0.82978723, 0.17021277],\n",
       "       [1.        , 0.        ],\n",
       "       [0.00502513, 0.99497487],\n",
       "       [1.        , 0.        ],\n",
       "       [1.        , 0.        ],\n",
       "       [1.        , 0.        ],\n",
       "       [0.97752809, 0.02247191],\n",
       "       [1.        , 0.        ],\n",
       "       [0.0052356 , 0.9947644 ],\n",
       "       [0.93877551, 0.06122449],\n",
       "       [1.        , 0.        ],\n",
       "       [0.02439024, 0.97560976],\n",
       "       [0.28342246, 0.71657754],\n",
       "       [0.95628415, 0.04371585],\n",
       "       [0.30337079, 0.69662921],\n",
       "       [0.98979592, 0.01020408],\n",
       "       [0.        , 1.        ],\n",
       "       [0.        , 1.        ],\n",
       "       [0.72677596, 0.27322404],\n",
       "       [0.40606061, 0.59393939],\n",
       "       [0.34594595, 0.65405405],\n",
       "       [0.83783784, 0.16216216],\n",
       "       [0.95480226, 0.04519774],\n",
       "       [0.03428571, 0.96571429],\n",
       "       [0.81595092, 0.18404908],\n",
       "       [0.01142857, 0.98857143],\n",
       "       [0.        , 1.        ],\n",
       "       [0.01948052, 0.98051948],\n",
       "       [0.98342541, 0.01657459],\n",
       "       [1.        , 0.        ],\n",
       "       [1.        , 0.        ],\n",
       "       [0.        , 1.        ],\n",
       "       [0.        , 1.        ],\n",
       "       [0.01764706, 0.98235294],\n",
       "       [0.01081081, 0.98918919],\n",
       "       [1.        , 0.        ],\n",
       "       [1.        , 0.        ],\n",
       "       [0.96756757, 0.03243243],\n",
       "       [1.        , 0.        ],\n",
       "       [1.        , 0.        ],\n",
       "       [0.99393939, 0.00606061],\n",
       "       [0.        , 1.        ],\n",
       "       [0.37837838, 0.62162162],\n",
       "       [0.28108108, 0.71891892],\n",
       "       [0.02777778, 0.97222222],\n",
       "       [0.        , 1.        ],\n",
       "       [0.29444444, 0.70555556],\n",
       "       [1.        , 0.        ],\n",
       "       [1.        , 0.        ],\n",
       "       [0.        , 1.        ],\n",
       "       [1.        , 0.        ],\n",
       "       [0.00502513, 0.99497487],\n",
       "       [0.        , 1.        ],\n",
       "       [0.97727273, 0.02272727],\n",
       "       [0.        , 1.        ],\n",
       "       [0.        , 1.        ],\n",
       "       [1.        , 0.        ],\n",
       "       [0.00546448, 0.99453552],\n",
       "       [0.63157895, 0.36842105],\n",
       "       [0.88383838, 0.11616162],\n",
       "       [0.        , 1.        ],\n",
       "       [0.99484536, 0.00515464],\n",
       "       [0.98913043, 0.01086957],\n",
       "       [1.        , 0.        ],\n",
       "       [0.        , 1.        ],\n",
       "       [0.        , 1.        ],\n",
       "       [1.        , 0.        ],\n",
       "       [0.08510638, 0.91489362],\n",
       "       [1.        , 0.        ],\n",
       "       [0.02808989, 0.97191011],\n",
       "       [0.00510204, 0.99489796],\n",
       "       [1.        , 0.        ],\n",
       "       [0.        , 1.        ],\n",
       "       [0.04411765, 0.95588235],\n",
       "       [0.99484536, 0.00515464],\n",
       "       [0.94186047, 0.05813953],\n",
       "       [0.77297297, 0.22702703],\n",
       "       [0.6576087 , 0.3423913 ],\n",
       "       [0.        , 1.        ],\n",
       "       [0.11764706, 0.88235294],\n",
       "       [1.        , 0.        ],\n",
       "       [0.95625   , 0.04375   ],\n",
       "       [0.99421965, 0.00578035],\n",
       "       [1.        , 0.        ],\n",
       "       [0.01058201, 0.98941799],\n",
       "       [0.        , 1.        ],\n",
       "       [0.45714286, 0.54285714],\n",
       "       [0.83606557, 0.16393443],\n",
       "       [0.        , 1.        ],\n",
       "       [0.00526316, 0.99473684],\n",
       "       [1.        , 0.        ],\n",
       "       [0.00546448, 0.99453552],\n",
       "       [0.        , 1.        ],\n",
       "       [0.9787234 , 0.0212766 ],\n",
       "       [0.        , 1.        ],\n",
       "       [0.245     , 0.755     ],\n",
       "       [0.        , 1.        ],\n",
       "       [1.        , 0.        ],\n",
       "       [0.        , 1.        ],\n",
       "       [0.        , 1.        ],\n",
       "       [0.98314607, 0.01685393],\n",
       "       [0.83832335, 0.16167665],\n",
       "       [1.        , 0.        ],\n",
       "       [0.        , 1.        ],\n",
       "       [0.09580838, 0.90419162],\n",
       "       [1.        , 0.        ],\n",
       "       [0.01104972, 0.98895028],\n",
       "       [0.        , 1.        ],\n",
       "       [0.04395604, 0.95604396],\n",
       "       [1.        , 0.        ],\n",
       "       [0.79234973, 0.20765027],\n",
       "       [0.        , 1.        ],\n",
       "       [0.89304813, 0.10695187],\n",
       "       [1.        , 0.        ],\n",
       "       [0.16393443, 0.83606557],\n",
       "       [0.25280899, 0.74719101],\n",
       "       [1.        , 0.        ],\n",
       "       [0.        , 1.        ],\n",
       "       [0.        , 1.        ],\n",
       "       [0.        , 1.        ],\n",
       "       [0.2459893 , 0.7540107 ],\n",
       "       [0.96045198, 0.03954802],\n",
       "       [0.0049505 , 0.9950495 ],\n",
       "       [1.        , 0.        ],\n",
       "       [0.99382716, 0.00617284],\n",
       "       [0.        , 1.        ],\n",
       "       [0.51075269, 0.48924731],\n",
       "       [1.        , 0.        ],\n",
       "       [0.        , 1.        ],\n",
       "       [1.        , 0.        ],\n",
       "       [0.        , 1.        ],\n",
       "       [0.        , 1.        ],\n",
       "       [0.10362694, 0.89637306],\n",
       "       [0.09574468, 0.90425532],\n",
       "       [0.98404255, 0.01595745],\n",
       "       [0.01554404, 0.98445596],\n",
       "       [1.        , 0.        ],\n",
       "       [0.39226519, 0.60773481],\n",
       "       [0.10204082, 0.89795918],\n",
       "       [0.53038674, 0.46961326],\n",
       "       [0.61928934, 0.38071066],\n",
       "       [0.        , 1.        ],\n",
       "       [1.        , 0.        ],\n",
       "       [0.        , 1.        ],\n",
       "       [0.        , 1.        ],\n",
       "       [0.6       , 0.4       ],\n",
       "       [0.        , 1.        ],\n",
       "       [1.        , 0.        ],\n",
       "       [0.21505376, 0.78494624],\n",
       "       [0.79213483, 0.20786517],\n",
       "       [0.05699482, 0.94300518],\n",
       "       [1.        , 0.        ],\n",
       "       [0.74418605, 0.25581395],\n",
       "       [0.        , 1.        ],\n",
       "       [0.        , 1.        ],\n",
       "       [0.13714286, 0.86285714],\n",
       "       [0.03191489, 0.96808511],\n",
       "       [0.        , 1.        ],\n",
       "       [1.        , 0.        ],\n",
       "       [0.93939394, 0.06060606],\n",
       "       [0.13812155, 0.86187845],\n",
       "       [0.94652406, 0.05347594],\n",
       "       [0.01382488, 0.98617512],\n",
       "       [0.61170213, 0.38829787],\n",
       "       [0.05479452, 0.94520548],\n",
       "       [0.99489796, 0.00510204],\n",
       "       [0.82911392, 0.17088608],\n",
       "       [0.        , 1.        ],\n",
       "       [0.98816568, 0.01183432],\n",
       "       [0.92857143, 0.07142857],\n",
       "       [0.        , 1.        ],\n",
       "       [0.        , 1.        ],\n",
       "       [1.        , 0.        ],\n",
       "       [0.        , 1.        ],\n",
       "       [1.        , 0.        ],\n",
       "       [0.30113636, 0.69886364],\n",
       "       [0.99425287, 0.00574713],\n",
       "       [1.        , 0.        ],\n",
       "       [0.        , 1.        ],\n",
       "       [0.0052356 , 0.9947644 ],\n",
       "       [0.79213483, 0.20786517],\n",
       "       [0.        , 1.        ],\n",
       "       [1.        , 0.        ],\n",
       "       [0.72432432, 0.27567568],\n",
       "       [0.96195652, 0.03804348],\n",
       "       [1.        , 0.        ],\n",
       "       [0.67553191, 0.32446809],\n",
       "       [0.50588235, 0.49411765],\n",
       "       [0.00549451, 0.99450549],\n",
       "       [0.89473684, 0.10526316],\n",
       "       [0.        , 1.        ],\n",
       "       [1.        , 0.        ],\n",
       "       [0.89502762, 0.10497238],\n",
       "       [1.        , 0.        ],\n",
       "       [1.        , 0.        ],\n",
       "       [0.7591623 , 0.2408377 ],\n",
       "       [0.09375   , 0.90625   ],\n",
       "       [0.44102564, 0.55897436],\n",
       "       [0.20430108, 0.79569892],\n",
       "       [0.        , 1.        ],\n",
       "       [0.84146341, 0.15853659],\n",
       "       [0.82989691, 0.17010309],\n",
       "       [0.01169591, 0.98830409],\n",
       "       [1.        , 0.        ],\n",
       "       [0.99435028, 0.00564972],\n",
       "       [1.        , 0.        ],\n",
       "       [0.        , 1.        ],\n",
       "       [0.02222222, 0.97777778],\n",
       "       [0.9408867 , 0.0591133 ],\n",
       "       [0.94708995, 0.05291005],\n",
       "       [1.        , 0.        ],\n",
       "       [0.58100559, 0.41899441],\n",
       "       [1.        , 0.        ],\n",
       "       [0.00507614, 0.99492386],\n",
       "       [0.99441341, 0.00558659],\n",
       "       [0.01666667, 0.98333333],\n",
       "       [1.        , 0.        ],\n",
       "       [1.        , 0.        ],\n",
       "       [1.        , 0.        ],\n",
       "       [0.        , 1.        ],\n",
       "       [0.95953757, 0.04046243],\n",
       "       [0.00529101, 0.99470899],\n",
       "       [0.06321839, 0.93678161],\n",
       "       [0.00534759, 0.99465241],\n",
       "       [0.        , 1.        ],\n",
       "       [1.        , 0.        ],\n",
       "       [1.        , 0.        ],\n",
       "       [0.        , 1.        ],\n",
       "       [1.        , 0.        ],\n",
       "       [0.0052356 , 0.9947644 ],\n",
       "       [1.        , 0.        ],\n",
       "       [0.09580838, 0.90419162],\n",
       "       [0.        , 1.        ],\n",
       "       [0.00518135, 0.99481865],\n",
       "       [0.        , 1.        ],\n",
       "       [0.41764706, 0.58235294],\n",
       "       [0.08163265, 0.91836735],\n",
       "       [0.22580645, 0.77419355],\n",
       "       [1.        , 0.        ],\n",
       "       [0.99435028, 0.00564972],\n",
       "       [0.26436782, 0.73563218],\n",
       "       [0.98870056, 0.01129944],\n",
       "       [0.00555556, 0.99444444],\n",
       "       [0.        , 1.        ],\n",
       "       [1.        , 0.        ],\n",
       "       [0.96195652, 0.03804348],\n",
       "       [0.32843137, 0.67156863],\n",
       "       [0.98837209, 0.01162791],\n",
       "       [1.        , 0.        ],\n",
       "       [0.01020408, 0.98979592],\n",
       "       [0.9947644 , 0.0052356 ],\n",
       "       [0.00588235, 0.99411765],\n",
       "       [0.03825137, 0.96174863],\n",
       "       [0.99404762, 0.00595238],\n",
       "       [1.        , 0.        ],\n",
       "       [0.04069767, 0.95930233],\n",
       "       [0.63101604, 0.36898396]])"
      ]
     },
     "execution_count": 16,
     "metadata": {},
     "output_type": "execute_result"
    }
   ],
   "source": [
    "bag_clf.oob_decision_function_"
   ]
  },
  {
   "cell_type": "markdown",
   "metadata": {},
   "source": [
    "## Random Patches和随机子空间"
   ]
  },
  {
   "cell_type": "markdown",
   "metadata": {},
   "source": [
    "- BaggingClassifier也支持对特征进行抽样，\n",
    "- 这通过两个超参数控制：max_features和bootstrap_features。\n",
    "- 它们的工作方式跟max_samples和bootstrap相同，\n",
    "- 只是抽样对象不再是实例，而是特征。\n",
    "- 因此，每个预测器将用输入特征的随机子集进行训练。"
   ]
  },
  {
   "cell_type": "markdown",
   "metadata": {},
   "source": [
    "- 这对于处理高维输入（例如图像） 特别有用。\n",
    "- 对训练实例和特征都进行抽样， 被称为Random Patches方法。\n",
    "- 而保留所有训练实例（即bootstrap=False并且max_samples=1.0） 但是对特征进行抽样（即bootstrap_features=True并且/或max_features<1.0），这被称为随机子空间法。"
   ]
  },
  {
   "cell_type": "markdown",
   "metadata": {
    "toc-hr-collapsed": true
   },
   "source": [
    "# 随机森林"
   ]
  },
  {
   "cell_type": "markdown",
   "metadata": {},
   "source": [
    "## 代码实现"
   ]
  },
  {
   "cell_type": "markdown",
   "metadata": {},
   "source": [
    "- 随机森林是决策树的集成，\n",
    "- 通常用bagging（有时也可能是pasting）方法训练，\n",
    "- 训练集大小通过max_samples来设置。\n",
    "- 除了先构建一个BaggingClassifier然后将结果传输到DecisionTreeClassifier，\n",
    "- 还有一种方法就是使用RandomForestClassifier类，这种方法更方便，\n",
    "- 对决策树更优化（同样，对于回归任务也有一个RandomForestRegressor类）。 "
   ]
  },
  {
   "cell_type": "code",
   "execution_count": 17,
   "metadata": {},
   "outputs": [
    {
     "data": {
      "text/plain": [
       "0.912"
      ]
     },
     "execution_count": 17,
     "metadata": {},
     "output_type": "execute_result"
    }
   ],
   "source": [
    "from sklearn.ensemble import RandomForestClassifier\n",
    "\n",
    "rnd_clf = RandomForestClassifier(n_estimators=500, max_leaf_nodes=16, n_jobs=-1, random_state=42)\n",
    "rnd_clf.fit(X_train, y_train)\n",
    "y_pred_rf = rnd_clf.predict(X_test)\n",
    "accuracy_score(y_test, y_pred_rf)"
   ]
  },
  {
   "cell_type": "code",
   "execution_count": 18,
   "metadata": {},
   "outputs": [
    {
     "data": {
      "text/plain": [
       "0.912"
      ]
     },
     "execution_count": 18,
     "metadata": {},
     "output_type": "execute_result"
    }
   ],
   "source": [
    "bag_clf = BaggingClassifier(\n",
    "    DecisionTreeClassifier(random_state=42, splitter='random', max_leaf_nodes=16),\n",
    "    n_estimators=500, max_samples=1.0, bootstrap=True, n_jobs=-1\n",
    ")\n",
    "bag_clf.fit(X_train, y_train)\n",
    "y_pred_bag = bag_clf.predict(X_test)\n",
    "accuracy_score(y_test, y_pred_bag)"
   ]
  },
  {
   "cell_type": "code",
   "execution_count": 19,
   "metadata": {},
   "outputs": [
    {
     "data": {
      "image/png": "[encoded data removed]",
      "text/plain": [
       "<Figure size 792x288 with 2 Axes>"
      ]
     },
     "metadata": {
      "needs_background": "light"
     },
     "output_type": "display_data"
    }
   ],
   "source": [
    "plt.figure(figsize=(11, 4))\n",
    "plt.subplot(121)\n",
    "plt.title('内置随机森林')\n",
    "plot_decision_boundary(rnd_clf, X, y)\n",
    "plt.subplot(122)\n",
    "plt.title('bagging随机森林')\n",
    "plot_decision_boundary(bag_clf, X, y)"
   ]
  },
  {
   "cell_type": "markdown",
   "metadata": {},
   "source": [
    "## 极端随机树"
   ]
  },
  {
   "cell_type": "markdown",
   "metadata": {},
   "source": [
    "- 随机森林里单棵树的生长过程中，\n",
    "- 每个节点在分裂时仅考虑到了一个随机子集所包含的特征。\n",
    "- 如果我们对每个特征使用随机阈值，\n",
    "- 而不是搜索得出的最佳阈值（如常规决策树），\n",
    "- 则可能让决策树生长得更加随机。\n",
    "- 这种极端随机的决策树组成的森林， 被称为极端随机树\n",
    "\n",
    "- 使用Scikit-Learn的ExtraTreesClassifier可以创建一个极端随机树分类器。\n",
    "- 它的API与RandomForestClassifier相同。\n",
    "- 同理，ExtraTreesRegressor与RandomForestRegressor的API也相同。\n",
    "\n",
    "- 通常来说，很难预先知道一个RandomForestClassifier是否会比一个ExtraTreesClassifier更好或是更差。\n",
    "- 唯一的方法是两种都尝试一遍， 然后使用交叉验证（还需要使用网格搜索调整超参数） 进行比较"
   ]
  },
  {
   "cell_type": "markdown",
   "metadata": {},
   "source": [
    "## 特征重要性\n",
    "- 最后，如果你查看单个决策树会发现，\n",
    "- 重要的特征更可能出现在靠近根节点的位置，\n",
    "- 而不重要的特征通常出现在靠近叶节点的位置（甚至根本不出现）。\n",
    "- 因此，通过计算一个特征在森林中所有树上的平均深度，\n",
    "- 可以估算出一个特征的重要程度。"
   ]
  },
  {
   "cell_type": "markdown",
   "metadata": {
    "toc-hr-collapsed": true
   },
   "source": [
    "### 示例"
   ]
  },
  {
   "cell_type": "code",
   "execution_count": 20,
   "metadata": {},
   "outputs": [
    {
     "name": "stdout",
     "output_type": "stream",
     "text": [
      "sepal length (cm) 0.11249225099876375\n",
      "sepal width (cm) 0.02311928828251033\n",
      "petal length (cm) 0.4410304643639577\n",
      "petal width (cm) 0.4233579963547682\n"
     ]
    }
   ],
   "source": [
    "from sklearn.datasets import load_iris\n",
    "iris = load_iris()\n",
    "rnd_clf = RandomForestClassifier(random_state=42, n_estimators=500, n_jobs=-1)\n",
    "rnd_clf.fit(iris['data'], iris['target'])\n",
    "for name, score in zip(iris['feature_names'], rnd_clf.feature_importances_):\n",
    "    print(name, score)"
   ]
  },
  {
   "cell_type": "markdown",
   "metadata": {},
   "source": [
    "- 输出了每个特征的重要性。\n",
    "- 看起来最重要的特征是花瓣长度（44%）和宽度（42%），\n",
    "- 而花萼的长度和宽度则相对不那么重要（分别是11%和2%）"
   ]
  },
  {
   "cell_type": "markdown",
   "metadata": {},
   "source": [
    "- 如果你在MNIST数据集（见第3章） 上训练一个随机森林分类器， 然后绘制其每个像素的重要性\n",
    "\n",
    "![](img/7-6.png)"
   ]
  },
  {
   "cell_type": "markdown",
   "metadata": {},
   "source": [
    "# 提升法"
   ]
  },
  {
   "cell_type": "markdown",
   "metadata": {},
   "source": [
    "## AdaBoost"
   ]
  },
  {
   "cell_type": "markdown",
   "metadata": {},
   "source": [
    "### 概述\n",
    "- 新预测器对其前序进行纠正的办法之一，\n",
    "- 就是更多地关注前序拟合不足的训练实例。\n",
    "- 从而使新的预测器不断地越来越专注于难缠的问题，\n",
    "- 这就是AdaBoost使用的技术。"
   ]
  },
  {
   "cell_type": "markdown",
   "metadata": {},
   "source": [
    "- 例如，要构建一个AdaBoost分类器，\n",
    "- 首先需要训练一个基础分类器（比如决策树），\n",
    "- 用它对训练集进行预测。\n",
    "- 然后对错误分类的训练实例增加其相对权重，\n",
    "- 接着，使用这个最新的权重对第二个分类器进行训练，\n",
    "- 然后再次对训练集进行预测，继续更新权重， 并不断循环向前\n",
    "\n",
    "![](img/7-7.png)"
   ]
  },
  {
   "cell_type": "markdown",
   "metadata": {},
   "source": [
    "- 第一个分类器产生了许多错误实例， 所以这些实例的权重得到提升。\n",
    "- 因此第二个分类器在这些实例上的表现有所提升，\n",
    "- 然后第三个、第四个……右图绘制的是相同预测器序列，\n",
    "- 唯一的差别在于学习率减半（即每次迭代仅提升一半错误分类的实例的权重）。\n",
    "- 可以看出，AdaBoost这种依序循环的学习技术跟梯度下降有一些异曲同工之处，\n",
    "- 差别只在于——不再是调整单个预测器的参数使成本函数最小化，\n",
    "- 而是不断在集成中加入预测器， 使模型越来越好。\n",
    "\n",
    "<small>这种依序学习技术有一个重要的缺陷就是无法并行（哪怕只是一部分） ， 因为每个预测器只能在前一个预测器训练完成并评估之后才能开始训练。 因此， 在拓展方面， 它的表现不如bagging和pasting方法。</small>"
   ]
  },
  {
   "cell_type": "code",
   "execution_count": 21,
   "metadata": {},
   "outputs": [
    {
     "data": {
      "text/plain": [
       "AdaBoostClassifier(algorithm='SAMME.R',\n",
       "                   base_estimator=DecisionTreeClassifier(class_weight=None,\n",
       "                                                         criterion='gini',\n",
       "                                                         max_depth=1,\n",
       "                                                         max_features=None,\n",
       "                                                         max_leaf_nodes=None,\n",
       "                                                         min_impurity_decrease=0.0,\n",
       "                                                         min_impurity_split=None,\n",
       "                                                         min_samples_leaf=1,\n",
       "                                                         min_samples_split=2,\n",
       "                                                         min_weight_fraction_leaf=0.0,\n",
       "                                                         presort=False,\n",
       "                                                         random_state=None,\n",
       "                                                         splitter='best'),\n",
       "                   learning_rate=0.5, n_estimators=200, random_state=42)"
      ]
     },
     "execution_count": 21,
     "metadata": {},
     "output_type": "execute_result"
    }
   ],
   "source": [
    "from sklearn.ensemble import AdaBoostClassifier\n",
    "\n",
    "ada_clf = AdaBoostClassifier(\n",
    "    DecisionTreeClassifier(max_depth=1), n_estimators=200,\n",
    "    algorithm=\"SAMME.R\", learning_rate=0.5, random_state=42)\n",
    "ada_clf.fit(X_train, y_train)"
   ]
  },
  {
   "cell_type": "code",
   "execution_count": 22,
   "metadata": {},
   "outputs": [
    {
     "data": {
      "text/plain": [
       "0.896"
      ]
     },
     "execution_count": 22,
     "metadata": {},
     "output_type": "execute_result"
    }
   ],
   "source": [
    "y_pred = ada_clf.predict(X_test)\n",
    "accuracy_score(y_test, y_pred)"
   ]
  },
  {
   "cell_type": "code",
   "execution_count": 23,
   "metadata": {},
   "outputs": [
    {
     "data": {
      "image/png": "[encoded data removed]",
      "text/plain": [
       "<Figure size 432x288 with 1 Axes>"
      ]
     },
     "metadata": {
      "needs_background": "light"
     },
     "output_type": "display_data"
    }
   ],
   "source": [
    "plot_decision_boundary(ada_clf, X, y)"
   ]
  },
  {
   "cell_type": "markdown",
   "metadata": {},
   "source": [
    "- 练习预测器决策边界\n",
    "\n",
    "![](img/7-8.png)"
   ]
  },
  {
   "cell_type": "markdown",
   "metadata": {},
   "source": [
    "### 数学推导\n",
    "- 第j个预测器的加权误差率\n",
    "$$ r_j=\\frac{\\sum_{i=1}^mw^{(i)}}{\\sum_{i=1}^mw^{(i)}} $$\n",
    "- 预测器权重\n",
    "$$\\alpha_j=\\eta log\\frac{1-r_j}{r_j}$$\n",
    "- 权重更新规则\n",
    "$$  w^{(i)}\\leftarrow\\begin{cases}\n",
    "w^{(i)} & (\\hat{y_j}^{(i)}=y^{(i)}) \\\\\n",
    "w^{(i)}exp(\\alpha_j) & (\\hat{y_j}^{(i)}\\neq y^{(i)})\n",
    "\\end{cases} $$\n",
    "- 然后将所有实例的权重归一化（即除以$ \\sum_{i=1}^mw^{(i)} $） 。\n",
    "- 最后，使用更新后的权重训练一个新的预测器，然后重复整个过程（计算新预测器的权重， 更新实例权重，然后对另一个预测器进行训练，等等）。当到达所需数量的预测器，或得到完美的预测器时，算法停止。"
   ]
  },
  {
   "cell_type": "markdown",
   "metadata": {},
   "source": [
    "- 预测的时候， AdaBoost就是简单地计算所有预测器的预测结果，\n",
    "- 并使用预测器权重αj对它们进行加权。 \n",
    "- 最后， 得到大多数加权投票的类别就是预测器给出的预测类别"
   ]
  },
  {
   "cell_type": "markdown",
   "metadata": {},
   "source": [
    "- AdaBoost预测\n",
    "$$ \\hat{y}(X)=argnax_k\\sum_{j=1}^N\\alpha_j $$\n",
    "$$ \\hat{y}_j(X)=k $$"
   ]
  },
  {
   "cell_type": "markdown",
   "metadata": {},
   "source": [
    "### 代码示例"
   ]
  },
  {
   "cell_type": "markdown",
   "metadata": {},
   "source": [
    "- Scikit-Learn使用的其实是AdaBoost的一个多分类版本， 叫作SAMME（基于多类指数损失函数的逐步添加模型）。\n",
    "- 当只有两个类别时，SAMME即等同于AdaBoost。\n",
    "- 此外，如果预测器可以估算类别概率（即具有predict_proba（）方法），\n",
    "- Scikit-Learn会使用一种SAMME的变体，称为SAMME.R（R代表“Real”），\n",
    "- 它依赖的是类别概率而不是类别预测， 通常表现更好。"
   ]
  },
  {
   "cell_type": "code",
   "execution_count": 24,
   "metadata": {},
   "outputs": [
    {
     "data": {
      "text/plain": [
       "AdaBoostClassifier(algorithm='SAMME.R',\n",
       "                   base_estimator=DecisionTreeClassifier(class_weight=None,\n",
       "                                                         criterion='gini',\n",
       "                                                         max_depth=1,\n",
       "                                                         max_features=None,\n",
       "                                                         max_leaf_nodes=None,\n",
       "                                                         min_impurity_decrease=0.0,\n",
       "                                                         min_impurity_split=None,\n",
       "                                                         min_samples_leaf=1,\n",
       "                                                         min_samples_split=2,\n",
       "                                                         min_weight_fraction_leaf=0.0,\n",
       "                                                         presort=False,\n",
       "                                                         random_state=None,\n",
       "                                                         splitter='best'),\n",
       "                   learning_rate=0.5, n_estimators=200, random_state=None)"
      ]
     },
     "execution_count": 24,
     "metadata": {},
     "output_type": "execute_result"
    }
   ],
   "source": [
    "from sklearn.ensemble import AdaBoostClassifier\n",
    "ada_clf = AdaBoostClassifier(\n",
    "    DecisionTreeClassifier(max_depth=1), n_estimators=200,\n",
    "    algorithm='SAMME.R', learning_rate=0.5\n",
    ")\n",
    "ada_clf.fit(X_train, y_train)"
   ]
  },
  {
   "cell_type": "code",
   "execution_count": 25,
   "metadata": {},
   "outputs": [
    {
     "data": {
      "text/plain": [
       "0.896"
      ]
     },
     "execution_count": 25,
     "metadata": {},
     "output_type": "execute_result"
    }
   ],
   "source": [
    "y_pred = ada_clf.predict(X_test)\n",
    "accuracy_score(y_test, y_pred)"
   ]
  },
  {
   "cell_type": "markdown",
   "metadata": {},
   "source": [
    "## 梯度提升"
   ]
  },
  {
   "cell_type": "markdown",
   "metadata": {},
   "source": [
    "- 梯度提升也是逐步在集成中添加预测器，\n",
    "- 每一个都对其前序做出改正。\n",
    "- 不同之处在于， 它不是像AdaBoost那样在每个迭代中调整实例权重，\n",
    "- 而是让新的预测器针对前一个预测器的残差进行拟合。"
   ]
  },
  {
   "cell_type": "markdown",
   "metadata": {},
   "source": [
    "### 代码示例"
   ]
  },
  {
   "cell_type": "markdown",
   "metadata": {},
   "source": [
    "- 首先，在训练集（比如带噪声的二次训练集）上拟合一个DecisionTreeRegressor"
   ]
  },
  {
   "cell_type": "code",
   "execution_count": 26,
   "metadata": {},
   "outputs": [],
   "source": [
    "np.random.seed(42)\n",
    "X = np.random.rand(100, 1) - 0.5\n",
    "y = 3*X[:, 0]**2 + 0.05 * np.random.randn(100)"
   ]
  },
  {
   "cell_type": "code",
   "execution_count": 27,
   "metadata": {},
   "outputs": [
    {
     "data": {
      "text/plain": [
       "DecisionTreeRegressor(criterion='mse', max_depth=2, max_features=None,\n",
       "                      max_leaf_nodes=None, min_impurity_decrease=0.0,\n",
       "                      min_impurity_split=None, min_samples_leaf=1,\n",
       "                      min_samples_split=2, min_weight_fraction_leaf=0.0,\n",
       "                      presort=False, random_state=42, splitter='best')"
      ]
     },
     "execution_count": 27,
     "metadata": {},
     "output_type": "execute_result"
    }
   ],
   "source": [
    "from sklearn.tree import DecisionTreeRegressor\n",
    "\n",
    "tree_reg1 = DecisionTreeRegressor(max_depth=2, random_state=42)\n",
    "tree_reg1.fit(X, y)"
   ]
  },
  {
   "cell_type": "markdown",
   "metadata": {},
   "source": [
    "- 现在，针对第一个预测器的残差，训练第二个DecisionTreeRegressor："
   ]
  },
  {
   "cell_type": "code",
   "execution_count": 28,
   "metadata": {},
   "outputs": [
    {
     "data": {
      "text/plain": [
       "DecisionTreeRegressor(criterion='mse', max_depth=2, max_features=None,\n",
       "                      max_leaf_nodes=None, min_impurity_decrease=0.0,\n",
       "                      min_impurity_split=None, min_samples_leaf=1,\n",
       "                      min_samples_split=2, min_weight_fraction_leaf=0.0,\n",
       "                      presort=False, random_state=42, splitter='best')"
      ]
     },
     "execution_count": 28,
     "metadata": {},
     "output_type": "execute_result"
    }
   ],
   "source": [
    "y2 = y - tree_reg1.predict(X)\n",
    "tree_reg2 = DecisionTreeRegressor(max_depth=2, random_state=42)\n",
    "tree_reg2.fit(X, y2)"
   ]
  },
  {
   "cell_type": "markdown",
   "metadata": {},
   "source": [
    "- 然后， 针对第二个预测器的残差，训练第三个回归器："
   ]
  },
  {
   "cell_type": "code",
   "execution_count": 29,
   "metadata": {},
   "outputs": [
    {
     "data": {
      "text/plain": [
       "DecisionTreeRegressor(criterion='mse', max_depth=2, max_features=None,\n",
       "                      max_leaf_nodes=None, min_impurity_decrease=0.0,\n",
       "                      min_impurity_split=None, min_samples_leaf=1,\n",
       "                      min_samples_split=2, min_weight_fraction_leaf=0.0,\n",
       "                      presort=False, random_state=42, splitter='best')"
      ]
     },
     "execution_count": 29,
     "metadata": {},
     "output_type": "execute_result"
    }
   ],
   "source": [
    "y3 = y2 - tree_reg2.predict(X)\n",
    "tree_reg3 = DecisionTreeRegressor(max_depth=2, random_state=42)\n",
    "tree_reg3.fit(X, y3)"
   ]
  },
  {
   "cell_type": "markdown",
   "metadata": {},
   "source": [
    "- 现在， 我们有了一个包含三棵树的集成。 它将所有树的预测相加， 从而对新实例进行预测："
   ]
  },
  {
   "cell_type": "code",
   "execution_count": 30,
   "metadata": {},
   "outputs": [],
   "source": [
    "X_new = np.array([[0.8]])"
   ]
  },
  {
   "cell_type": "code",
   "execution_count": 31,
   "metadata": {},
   "outputs": [],
   "source": [
    "y_pred = sum(tree.predict(X_new) for tree in (tree_reg1, tree_reg2, tree_reg3))"
   ]
  },
  {
   "cell_type": "code",
   "execution_count": 32,
   "metadata": {},
   "outputs": [
    {
     "data": {
      "text/plain": [
       "array([0.75026781])"
      ]
     },
     "execution_count": 32,
     "metadata": {},
     "output_type": "execute_result"
    }
   ],
   "source": [
    "y_pred"
   ]
  },
  {
   "cell_type": "markdown",
   "metadata": {},
   "source": [
    "- 训练GBRT集成有个简单的方法， 就是使用Scikit-Learn的GradientBoosting-Regressor类。 "
   ]
  },
  {
   "cell_type": "code",
   "execution_count": 33,
   "metadata": {},
   "outputs": [
    {
     "data": {
      "text/plain": [
       "GradientBoostingRegressor(alpha=0.9, criterion='friedman_mse', init=None,\n",
       "                          learning_rate=1.0, loss='ls', max_depth=2,\n",
       "                          max_features=None, max_leaf_nodes=None,\n",
       "                          min_impurity_decrease=0.0, min_impurity_split=None,\n",
       "                          min_samples_leaf=1, min_samples_split=2,\n",
       "                          min_weight_fraction_leaf=0.0, n_estimators=3,\n",
       "                          n_iter_no_change=None, presort='auto',\n",
       "                          random_state=42, subsample=1.0, tol=0.0001,\n",
       "                          validation_fraction=0.1, verbose=0, warm_start=False)"
      ]
     },
     "execution_count": 33,
     "metadata": {},
     "output_type": "execute_result"
    }
   ],
   "source": [
    "from sklearn.ensemble import GradientBoostingRegressor\n",
    "gbrt = GradientBoostingRegressor(max_depth=2, n_estimators=3, learning_rate=1.0, random_state=42)\n",
    "gbrt.fit(X, y)"
   ]
  },
  {
   "cell_type": "code",
   "execution_count": 34,
   "metadata": {},
   "outputs": [
    {
     "data": {
      "text/plain": [
       "array([0.75026781])"
      ]
     },
     "execution_count": 34,
     "metadata": {},
     "output_type": "execute_result"
    }
   ],
   "source": [
    "y_pred = gbrt.predict(X_new)\n",
    "y_pred"
   ]
  },
  {
   "cell_type": "code",
   "execution_count": 35,
   "metadata": {},
   "outputs": [
    {
     "data": {
      "image/png": "[encoded data removed]",
      "text/plain": [
       "<Figure size 792x792 with 6 Axes>"
      ]
     },
     "metadata": {
      "needs_background": "light"
     },
     "output_type": "display_data"
    }
   ],
   "source": [
    "def plot_predictions(regressors, X, y, axes, label=None, style=\"r-\", data_style=\"b.\", data_label=None):\n",
    "    x1 = np.linspace(axes[0], axes[1], 500)\n",
    "    y_pred = sum(regressor.predict(x1.reshape(-1, 1)) for regressor in regressors)\n",
    "    plt.plot(X[:, 0], y, data_style, label=data_label)\n",
    "    plt.plot(x1, y_pred, style, linewidth=2, label=label)\n",
    "    if label or data_label:\n",
    "        plt.legend(loc=\"upper center\", fontsize=16)\n",
    "    plt.axis(axes)\n",
    "\n",
    "plt.figure(figsize=(11,11))\n",
    "\n",
    "plt.subplot(321)\n",
    "plot_predictions([tree_reg1], X, y, axes=[-0.5, 0.5, -0.1, 0.8], label=\"$h_1(x_1)$\", style=\"g-\", data_label=\"训练集\")\n",
    "plt.ylabel(\"$y$\", fontsize=16, rotation=0)\n",
    "plt.title(\"残差和树的预测\", fontsize=16)\n",
    "\n",
    "plt.subplot(322)\n",
    "plot_predictions([tree_reg1], X, y, axes=[-0.5, 0.5, -0.1, 0.8], label=\"$h(x_1) = h_1(x_1)$\", data_label=\"训练集\")\n",
    "plt.ylabel(\"$y$\", fontsize=16, rotation=0)\n",
    "plt.title(\"集成预测\", fontsize=16)\n",
    "\n",
    "plt.subplot(323)\n",
    "plot_predictions([tree_reg2], X, y2, axes=[-0.5, 0.5, -0.5, 0.5], label=\"$h_2(x_1)$\", style=\"g-\", data_style=\"k+\", data_label=\"残差\")\n",
    "plt.ylabel(\"$y - h_1(x_1)$\", fontsize=16)\n",
    "\n",
    "plt.subplot(324)\n",
    "plot_predictions([tree_reg1, tree_reg2], X, y, axes=[-0.5, 0.5, -0.1, 0.8], label=\"$h(x_1) = h_1(x_1) + h_2(x_1)$\")\n",
    "plt.ylabel(\"$y$\", fontsize=16, rotation=0)\n",
    "\n",
    "plt.subplot(325)\n",
    "plot_predictions([tree_reg3], X, y3, axes=[-0.5, 0.5, -0.5, 0.5], label=\"$h_3(x_1)$\", style=\"g-\", data_style=\"k+\")\n",
    "plt.ylabel(\"$y - h_1(x_1) - h_2(x_1)$\", fontsize=16)\n",
    "plt.xlabel(\"$x_1$\", fontsize=16)\n",
    "\n",
    "plt.subplot(326)\n",
    "plot_predictions([tree_reg1, tree_reg2, tree_reg3], X, y, axes=[-0.5, 0.5, -0.1, 0.8], label=\"$h(x_1) = h_1(x_1) + h_2(x_1) + h_3(x_1)$\")\n",
    "plt.xlabel(\"$x_1$\", fontsize=16)\n",
    "plt.ylabel(\"$y$\", fontsize=16, rotation=0)\n",
    "\n",
    "# save_fig(\"gradient_boosting_plot\")\n",
    "plt.show()"
   ]
  },
  {
   "cell_type": "markdown",
   "metadata": {},
   "source": [
    "- 超参数learning_rate对每棵树的贡献进行缩放。如果你将其设置为低值，比如0.1，则需要更多的树来拟合训练集，但是预测的泛化效果通常更好。 "
   ]
  },
  {
   "cell_type": "code",
   "execution_count": 38,
   "metadata": {},
   "outputs": [
    {
     "data": {
      "image/png": "[encoded data removed]",
      "text/plain": [
       "<Figure size 792x288 with 2 Axes>"
      ]
     },
     "metadata": {
      "needs_background": "light"
     },
     "output_type": "display_data"
    }
   ],
   "source": [
    "gbrt = GradientBoostingRegressor(max_depth=2, n_estimators=3, learning_rate=0.1, random_state=42)\n",
    "gbrt.fit(X, y)\n",
    "\n",
    "gbrt_slow = GradientBoostingRegressor(max_depth=2, n_estimators=200, learning_rate=0.1, random_state=42)\n",
    "gbrt_slow.fit(X, y)\n",
    "\n",
    "plt.figure(figsize=(11, 4))\n",
    "plt.subplot(121)\n",
    "plt.title('n_estimators=3, learning_rate=0.1')\n",
    "plot_predictions([gbrt], X, y, axes=[-0.5, 0.5, -0.1, 0.8], label='集成预测')\n",
    "plt.subplot(122)\n",
    "plt.title('n_estimators=200, learning_rate=0.1')\n",
    "plot_predictions([gbrt_slow], X, y, axes=[-0.5, 0.5, -0.1, 0.8])"
   ]
  },
  {
   "cell_type": "markdown",
   "metadata": {},
   "source": [
    "- 预测器太少（左图） 和预测器太多（右图）"
   ]
  },
  {
   "cell_type": "markdown",
   "metadata": {},
   "source": [
    "- 要找到树的最佳数量，可以使用早期停止法（参见第4章）。\n",
    "- 简单的实现方法就是使用staged_predict（）方法：\n",
    "- 它在训练的每个阶段（一棵树时，两棵树时，等等）都对集成的预测返回一个迭代器。\n",
    "- 以下代码训练了一个拥有120棵树的GBRT集成，\n",
    "- 然后测量每个训练阶段的验证误差，\n",
    "- 从而找到树的最优数量，\n",
    "- 最后使用最优树数重新训练了一个GBRT集成："
   ]
  },
  {
   "cell_type": "code",
   "execution_count": 40,
   "metadata": {},
   "outputs": [],
   "source": [
    "from sklearn.model_selection import train_test_split\n",
    "from sklearn.metrics import mean_squared_error\n",
    "X_train, X_val, y_train, y_val = train_test_split(X, y)"
   ]
  },
  {
   "cell_type": "code",
   "execution_count": 43,
   "metadata": {},
   "outputs": [],
   "source": [
    "gbrt = GradientBoostingRegressor(max_depth=2, n_estimators=120, random_state=42)\n",
    "gbrt.fit(X_train, y_train)\n",
    "\n",
    "errors = [mean_squared_error(y_val, y_pred) for y_pred in gbrt.staged_predict(X_val)]\n",
    "bst_n_estimator = np.argmin(errors)"
   ]
  },
  {
   "cell_type": "code",
   "execution_count": 44,
   "metadata": {},
   "outputs": [
    {
     "data": {
      "text/plain": [
       "GradientBoostingRegressor(alpha=0.9, criterion='friedman_mse', init=None,\n",
       "                          learning_rate=0.1, loss='ls', max_depth=2,\n",
       "                          max_features=None, max_leaf_nodes=None,\n",
       "                          min_impurity_decrease=0.0, min_impurity_split=None,\n",
       "                          min_samples_leaf=1, min_samples_split=2,\n",
       "                          min_weight_fraction_leaf=0.0, n_estimators=67,\n",
       "                          n_iter_no_change=None, presort='auto',\n",
       "                          random_state=42, subsample=1.0, tol=0.0001,\n",
       "                          validation_fraction=0.1, verbose=0, warm_start=False)"
      ]
     },
     "execution_count": 44,
     "metadata": {},
     "output_type": "execute_result"
    }
   ],
   "source": [
    "gbrt_best = GradientBoostingRegressor(max_depth=2, n_estimators=bst_n_estimator, random_state=42)\n",
    "gbrt_best.fit(X_train, y_train)"
   ]
  },
  {
   "cell_type": "code",
   "execution_count": 63,
   "metadata": {},
   "outputs": [
    {
     "data": {
      "text/plain": [
       "(67, 0.0030248830463853182)"
      ]
     },
     "execution_count": 63,
     "metadata": {},
     "output_type": "execute_result"
    }
   ],
   "source": [
    "min_error = np.min(errors)\n",
    "bst_n_estimator, min_error"
   ]
  },
  {
   "cell_type": "code",
   "execution_count": 62,
   "metadata": {},
   "outputs": [
    {
     "data": {
      "text/plain": [
       "Text(0.5, 1.0, '最好的模型（67棵树）')"
      ]
     },
     "execution_count": 62,
     "metadata": {},
     "output_type": "execute_result"
    },
    {
     "data": {
      "image/png": "[encoded data removed]",
      "text/plain": [
       "<Figure size 792x288 with 2 Axes>"
      ]
     },
     "metadata": {
      "needs_background": "light"
     },
     "output_type": "display_data"
    }
   ],
   "source": [
    "plt.figure(figsize=(11, 4))\n",
    "plt.subplot(121)\n",
    "plt.plot(errors)\n",
    "plt.title('验证误差')\n",
    "plt.ylim(0, 0.01)\n",
    "plt.xlim(0, 120)\n",
    "plt.plot([bst_n_estimator, bst_n_estimator], [0, min_error], \"k--\")\n",
    "plt.plot([0, 120], [min_error, min_error], \"k--\")\n",
    "plt.plot(bst_n_estimator, min_error, \"ko\")\n",
    "plt.text(bst_n_estimator, min_error*1.2, \"最小误差\", ha=\"center\", fontsize=14)\n",
    "\n",
    "plt.subplot(122)\n",
    "plot_predictions([gbrt_best], X, y, axes=[-0.5,0.5,-0.1,0.8])\n",
    "plt.title('最好的模型（67棵树）')"
   ]
  },
  {
   "cell_type": "markdown",
   "metadata": {},
   "source": [
    "- 实际上， 要实现早期停止法，\n",
    "- 不一定需要先训练大量的树， 然后再回头找最优的数字，\n",
    "- 还可以真的提前停止训练。\n",
    "- 设置warm_start=True，当fit（）方法被调用时，\n",
    "- Scikit-Learn会保留现有的树，从而允许增量训练。 "
   ]
  },
  {
   "cell_type": "code",
   "execution_count": 66,
   "metadata": {},
   "outputs": [],
   "source": [
    "gbrt = GradientBoostingRegressor(max_depth=2, warm_start=True)\n",
    "\n",
    "min_val_error = float('inf')\n",
    "error_going_up = 0\n",
    "for n_estimators in range(1, 120):\n",
    "    gbrt.n_estimators = n_estimators\n",
    "    gbrt.fit(X_train, y_train)\n",
    "    y_pred = gbrt.predict(X_val)\n",
    "    val_error = mean_squared_error(y_val, y_pred)\n",
    "    if val_error < min_val_error:\n",
    "        min_val_error = val_error\n",
    "        error_going_up = 0\n",
    "    else:\n",
    "        error_going_up += 1\n",
    "        if error_going_up == 5:\n",
    "            break"
   ]
  },
  {
   "cell_type": "code",
   "execution_count": 69,
   "metadata": {},
   "outputs": [
    {
     "data": {
      "image/png": "[encoded data removed]",
      "text/plain": [
       "<Figure size 432x288 with 1 Axes>"
      ]
     },
     "metadata": {
      "needs_background": "light"
     },
     "output_type": "display_data"
    }
   ],
   "source": [
    "plot_predictions([gbrt], X, y, axes=[-0.5,0.5,-0.1,0.8])"
   ]
  },
  {
   "cell_type": "markdown",
   "metadata": {},
   "source": [
    "# 折叠法\n",
    "- 又称层叠泛化法\n",
    "- 它基于一个简单的想法：\n",
    "- 与其使用一些简单的函数（比如硬投票）来聚合集成中所有预测器的预测，\n",
    "- 我们为什么不训练一个模型来执行这个聚合呢？ \n",
    "- 图7-12显示了在新实例上执行回归任务的这样一个集成。\n",
    "- 底部的三个预测器分别预测了不同的值（3.1、 2.7和2.9），\n",
    "- 然后最终的预测器（称为混合器或元学习器）将这些预测作为输入，进行最终预测（3.0） 。\n",
    "\n",
    "![](img/7-12.png)"
   ]
  },
  {
   "cell_type": "markdown",
   "metadata": {},
   "source": [
    "- 训练混合器的常用方法是使用留存集。\n",
    "- 我们看看它是如何工作的。\n",
    "- 首先，将训练集分为两个子集，第一个子集用来训练第一层的预测器。\n",
    "\n",
    "![](img/7-13.png)"
   ]
  },
  {
   "cell_type": "markdown",
   "metadata": {},
   "source": [
    "- 然后， 用第一层的预测器在第二个（留存） 子集上进行预测。\n",
    "- 因为预测器在训练时从未见过这些实例，所以可以确保预测是“干净的”。\n",
    "- 那么现在对于留存集中的每个实例都有了三个预测值。\n",
    "- 我们可以使用这些预测值作为输入特征，创建一个新的训练集（新的训练集有三个维度），并保留目标值。\n",
    "- 在这个新的训练集上训练混合器， 让它学习根据第一层的预测来预测目标值。\n",
    "\n",
    "![](img/7-14.png)"
   ]
  },
  {
   "cell_type": "markdown",
   "metadata": {},
   "source": [
    "- 事实上， 通过这种方法可以训练多种不同的混合器（例如， 一个使用线性回归， 另一个使用随机森林回归， 等等） ： 于是我们可以得到一个混合器层。\n",
    "- 诀窍在于将训练集分为三个子集：\n",
    "- 第一个用来训练第一层，\n",
    "- 第二个用来创造训练第二层的新训练集（使用第一层的预测），\n",
    "- 而第三个用来创造训练第三层的新训练集（使用第二层的预测）。\n",
    "- 一旦训练完成， 我们可以按照顺序遍历每层来对新实例进行预测，\n",
    "\n",
    "![](img/7-15.png)"
   ]
  },
  {
   "cell_type": "markdown",
   "metadata": {},
   "source": [
    "- 不幸的是， Scikit-Learn不直接支持堆叠， 但是自己堆出stacking的实现品并不太难。 \n",
    "- 或者， 你也可以使用开源的实现方案， 例如brew（可从https://github.com/viisar/brew)"
   ]
  },
  {
   "cell_type": "code",
   "execution_count": null,
   "metadata": {},
   "outputs": [],
   "source": []
  }
 ],
 "metadata": {
  "kernelspec": {
   "display_name": "Python 3",
   "language": "python",
   "name": "python3"
  },
  "language_info": {
   "codemirror_mode": {
    "name": "ipython",
    "version": 3
   },
   "file_extension": ".py",
   "mimetype": "text/x-python",
   "name": "python",
   "nbconvert_exporter": "python",
   "pygments_lexer": "ipython3",
   "version": "3.7.3"
  },
  "toc-autonumbering": true
 },
 "nbformat": 4,
 "nbformat_minor": 2
}
